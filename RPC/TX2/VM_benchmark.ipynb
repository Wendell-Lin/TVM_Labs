{
 "cells": [
  {
   "cell_type": "markdown",
   "id": "53603f4d",
   "metadata": {},
   "source": [
    "- RPC \n",
    "    - ssh port forwarding\n",
    "        - Object(Machine):ssh -L [LOCAL_IP:]LOCAL_PORT:DESTINATION:DESTINATION_PORT [USER@]SSH_SERVER\n",
    "        - Tracker(Host)  :ssh -N -R tcp:9190:0.0.0.0:9190 tx2\n",
    "        - Server(Tx2) :ssh -N -R tcp:9090:0.0.0.0:9090 pc\n",
    "    - python script\n",
    "        - Tracker\n",
    "        - Server"
   ]
  },
  {
   "cell_type": "code",
   "execution_count": 1,
   "id": "142e7506",
   "metadata": {},
   "outputs": [],
   "source": [
    "import tvm\n",
    "from tvm import te\n",
    "import tvm.relay as relay\n",
    "from tvm import rpc\n",
    "from tvm.contrib import utils, graph_executor as runtime\n",
    "from tvm.contrib.download import download_testdata\n",
    "from mxnet.gluon.model_zoo.vision import get_model\n",
    "from PIL import Image\n",
    "import numpy as np\n",
    "from tvm.relay import testing\n",
    "\n",
    "# one line to get the model\n",
    "block = get_model(\"resnet18_v1\", pretrained=True)"
   ]
  },
  {
   "cell_type": "code",
   "execution_count": 2,
   "id": "6943a9c0",
   "metadata": {},
   "outputs": [],
   "source": [
    "# remote = rpc.connect(\"192.168.55.1\", 9090)\n",
    "tracker = tvm.rpc.connect_tracker(\"localhost\", 9190)"
   ]
  },
  {
   "cell_type": "code",
   "execution_count": 3,
   "id": "727ee5ef",
   "metadata": {
    "scrolled": true
   },
   "outputs": [
    {
     "data": {
      "text/plain": [
       "{'queue_info': {'tx2': {'free': 1, 'pending': 0}},\n",
       " 'server_info': [{'key': 'server:tx2', 'addr': ['127.0.0.1', 9090]}]}"
      ]
     },
     "execution_count": 3,
     "metadata": {},
     "output_type": "execute_result"
    }
   ],
   "source": [
    "tracker.summary()"
   ]
  },
  {
   "cell_type": "code",
   "execution_count": 4,
   "id": "c96f5609",
   "metadata": {},
   "outputs": [],
   "source": [
    "remote = tracker.request(\"tx2\")"
   ]
  },
  {
   "cell_type": "code",
   "execution_count": 5,
   "id": "b73a8a65",
   "metadata": {},
   "outputs": [
    {
     "data": {
      "text/plain": [
       "(True, True)"
      ]
     },
     "execution_count": 5,
     "metadata": {},
     "output_type": "execute_result"
    }
   ],
   "source": [
    "remote.cpu(0).exist, remote.cuda(0).exist"
   ]
  },
  {
   "cell_type": "code",
   "execution_count": 6,
   "id": "0b7c8428",
   "metadata": {
    "scrolled": true
   },
   "outputs": [],
   "source": [
    "batch_size = 1\n",
    "num_class = 1000\n",
    "image_shape = (3, 224, 224)\n",
    "data_shape = (batch_size,) + image_shape\n",
    "out_shape = (batch_size, num_class)\n",
    "\n",
    "mod, params = relay.testing.resnet.get_workload(batch_size=batch_size, num_layers=18)\n",
    "# mod, params = relay.testing.vgg.get_workload(batch_size=batch_size, num_layers=11)\n",
    "\n",
    "# set show_meta_data=True if you want to show meta data\n",
    "# print(mod.astext(show_meta_data=False))"
   ]
  },
  {
   "cell_type": "code",
   "execution_count": 7,
   "id": "e3b5e3f1",
   "metadata": {},
   "outputs": [],
   "source": [
    "from tvm.relay.expr_functor import ExprMutator\n",
    "\n",
    "class ScheduleConv2d(ExprMutator):\n",
    "    def __init__(self):\n",
    "        super().__init__()\n",
    "\n",
    "    def visit_call(self, expr):\n",
    "        visit = super().visit_call(expr)\n",
    "        if expr.op == tvm.relay.op.get(\"nn.conv2d\") or expr.op == tvm.relay.op.get(\"nn.softmax\"):\n",
    "            # cannot relay.vm.compile when annotate on remote cuda, tvm cuda instead\n",
    "            return relay.annotation.on_device(visit, tvm.cuda(0))\n",
    "        else:\n",
    "            return visit"
   ]
  },
  {
   "cell_type": "code",
   "execution_count": 8,
   "id": "9b783a60",
   "metadata": {},
   "outputs": [],
   "source": [
    "for gv in mod.get_global_vars():\n",
    "    mod[gv] = ScheduleConv2d().visit(mod[gv])\n",
    "mod = relay.transform.InferType()(mod)"
   ]
  },
  {
   "cell_type": "code",
   "execution_count": 9,
   "id": "9087cd35",
   "metadata": {},
   "outputs": [
    {
     "name": "stderr",
     "output_type": "stream",
     "text": [
      "One or more operators have not been tuned. Please tune your model for better performance. Use DEBUG logging level to see more details.\n"
     ]
    }
   ],
   "source": [
    "with tvm.transform.PassContext(\n",
    "    opt_level=3, \n",
    "    config={\"relay.fallback_device_type\": 1} # 1 for CPU, 2 for GPU\n",
    "):\n",
    "    exe = relay.vm.compile(\n",
    "        mod, target={\\\n",
    "            \"cpu\": tvm.target.Target(\"llvm -mtriple=x86_64-linux-gnu\"),\n",
    "            \"cuda\": tvm.target.Target(\"cuda -arch=sm_86\")\n",
    "            # \"cpu\": tvm.target.Target(\"llvm -mtriple=aarch64-linux-gnu\"), \n",
    "            # \"cuda\": tvm.target.Target(\"cuda -arch=sm_62\")\n",
    "        }, params=params\n",
    "    )"
   ]
  },
  {
   "cell_type": "code",
   "execution_count": 10,
   "id": "61b1032e",
   "metadata": {},
   "outputs": [],
   "source": [
    "# temp = utils.tempdir()\n",
    "# path = temp.relpath(\"vm_lib.tar\")\n",
    "# exe.mod.export_library(path)"
   ]
  },
  {
   "cell_type": "code",
   "execution_count": 11,
   "id": "cdef7d0d",
   "metadata": {},
   "outputs": [],
   "source": [
    "# remote.upload(path)\n",
    "# rexe = remote.load_module(\"vm_lib.tar\")"
   ]
  },
  {
   "cell_type": "code",
   "execution_count": 12,
   "id": "8ee0b213",
   "metadata": {},
   "outputs": [],
   "source": [
    "# remote devs here\n",
    "devs = [tvm.cpu(0), tvm.cuda(0)]\n",
    "vm = tvm.runtime.vm.VirtualMachine(exe, devs)"
   ]
  },
  {
   "cell_type": "code",
   "execution_count": 14,
   "id": "9ce41b7c",
   "metadata": {},
   "outputs": [
    {
     "name": "stdout",
     "output_type": "stream",
     "text": [
      "[0.00090203 0.0010247  0.00090637 0.00102216 0.00109492 0.00107084\n",
      " 0.00105591 0.00095502 0.0011055  0.00113423]\n"
     ]
    }
   ],
   "source": [
    "np.random.seed(0)\n",
    "data = np.random.uniform(-1, 1, size=data_shape).astype(\"float32\")\n",
    "p = list(params.values())\n",
    "input_data = tvm.nd.array(data, tvm.cpu(0))\n",
    "out = vm.invoke(\"main\", input_data)\n",
    "\n",
    "# Print first 10 elements of output\n",
    "print(out.numpy().flatten()[0:10])"
   ]
  },
  {
   "cell_type": "code",
   "execution_count": null,
   "id": "bca842de",
   "metadata": {},
   "outputs": [],
   "source": [
    "import time"
   ]
  },
  {
   "cell_type": "code",
   "execution_count": null,
   "id": "1e13f4af",
   "metadata": {},
   "outputs": [
    {
     "data": {
      "text/plain": [
       "82.9918384552002"
      ]
     },
     "execution_count": 93,
     "metadata": {},
     "output_type": "execute_result"
    }
   ],
   "source": [
    "st = time.time()\n",
    "# time for malloc on remote cuda and transfer by bus and rpc\n",
    "tvm.nd.array(np.random.uniform(-1, 1, size=data_shape).astype(\"float32\"), remote.cuda()).asnumpy()\n",
    "ed = time.time()\n",
    "(ed - st) * 1000"
   ]
  },
  {
   "cell_type": "code",
   "execution_count": null,
   "id": "c95715ba",
   "metadata": {},
   "outputs": [],
   "source": []
  },
  {
   "cell_type": "code",
   "execution_count": null,
   "id": "70e77908",
   "metadata": {},
   "outputs": [],
   "source": []
  }
 ],
 "metadata": {
  "kernelspec": {
   "display_name": "Python 3.8.10 64-bit",
   "language": "python",
   "name": "python3"
  },
  "language_info": {
   "codemirror_mode": {
    "name": "ipython",
    "version": 3
   },
   "file_extension": ".py",
   "mimetype": "text/x-python",
   "name": "python",
   "nbconvert_exporter": "python",
   "pygments_lexer": "ipython3",
   "version": "3.8.10"
  },
  "vscode": {
   "interpreter": {
    "hash": "916dbcbb3f70747c44a77c7bcd40155683ae19c65e1c03b4aa3499c5328201f1"
   }
  }
 },
 "nbformat": 4,
 "nbformat_minor": 5
}
