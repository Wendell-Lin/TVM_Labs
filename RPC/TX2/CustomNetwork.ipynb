{
 "cells": [
  {
   "cell_type": "code",
   "execution_count": 1,
   "id": "511a5c58",
   "metadata": {},
   "outputs": [],
   "source": [
    "import numpy as np\n",
    "\n",
    "import tvm\n",
    "from tvm import te\n",
    "from tvm import rpc\n",
    "from tvm.contrib import utils\n",
    "\n",
    "n = tvm.runtime.convert(1024)\n",
    "A = te.placeholder((n,), name=\"A\")\n",
    "B = te.compute((n,), lambda i: A[i] + 1.0, name=\"B\")\n",
    "s = te.create_schedule(B.op)"
   ]
  },
  {
   "cell_type": "code",
   "execution_count": 3,
   "id": "e5124bb2",
   "metadata": {},
   "outputs": [],
   "source": [
    "local_demo = False\n",
    "\n",
    "if local_demo:\n",
    "    target = \"llvm\"\n",
    "else:\n",
    "    target = \"llvm -mtriple=aarch64-linux-gnu\"\n",
    "\n",
    "func = tvm.build(s, [A, B], target=target, name=\"add_one\")\n",
    "# save the lib at a local temp folder\n",
    "temp = utils.tempdir()\n",
    "path = temp.relpath(\"lib.tar\")\n",
    "func.export_library(path)"
   ]
  },
  {
   "cell_type": "code",
   "execution_count": 5,
   "id": "758d20a8",
   "metadata": {},
   "outputs": [],
   "source": [
    "if local_demo:\n",
    "    remote = rpc.LocalSession()\n",
    "else:\n",
    "    # The following is my environment, change this to the IP address of your target device\n",
    "    host = \"192.168.55.1\"\n",
    "    port = 9090\n",
    "    remote = rpc.connect(host, port)"
   ]
  },
  {
   "cell_type": "code",
   "execution_count": 19,
   "id": "7caf3b82",
   "metadata": {},
   "outputs": [],
   "source": [
    "remote.upload(path)\n",
    "func = remote.load_module(\"lib.tar\")\n",
    "\n",
    "# create arrays on the remote device\n",
    "dev = remote.cpu()\n",
    "a = tvm.nd.array(np.random.uniform(size=1024).astype(A.dtype), dev)\n",
    "b = tvm.nd.array(np.zeros(1024, dtype=A.dtype), dev)\n",
    "# the function will run on the remote device\n",
    "func(a, b)\n",
    "np.testing.assert_equal(b.numpy(), a.numpy() + 1)"
   ]
  },
  {
   "cell_type": "code",
   "execution_count": 12,
   "id": "d711f07e",
   "metadata": {},
   "outputs": [
    {
     "name": "stdout",
     "output_type": "stream",
     "text": [
      "2.6047e-06 secs/op\n"
     ]
    }
   ],
   "source": [
    "time_f = func.time_evaluator(func.entry_name, dev, number=10)\n",
    "cost = time_f(a, b).mean\n",
    "print(\"%g secs/op\" % cost)"
   ]
  }
 ],
 "metadata": {
  "kernelspec": {
   "display_name": "Python 3 (ipykernel)",
   "language": "python",
   "name": "python3"
  },
  "language_info": {
   "codemirror_mode": {
    "name": "ipython",
    "version": 3
   },
   "file_extension": ".py",
   "mimetype": "text/x-python",
   "name": "python",
   "nbconvert_exporter": "python",
   "pygments_lexer": "ipython3",
   "version": "3.8.10"
  }
 },
 "nbformat": 4,
 "nbformat_minor": 5
}
