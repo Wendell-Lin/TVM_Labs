{
 "cells": [
  {
   "cell_type": "code",
   "execution_count": 28,
   "id": "8b1c662d",
   "metadata": {},
   "outputs": [
    {
     "ename": "ValueError",
     "evalue": "The API 'autotvm.measure.set_cuda_target_arch' is deprecated.Try specifying it by adding '-arch=sm_xx' to your target, such as 'cuda -arch=sm_86'.See https://github.com/apache/tvm/pull/9544 for the upgrade guide.",
     "output_type": "error",
     "traceback": [
      "\u001b[0;31m---------------------------------------------------------------------------\u001b[0m",
      "\u001b[0;31mValueError\u001b[0m                                Traceback (most recent call last)",
      "Input \u001b[0;32mIn [28]\u001b[0m, in \u001b[0;36m<cell line: 8>\u001b[0;34m()\u001b[0m\n\u001b[1;32m      6\u001b[0m \u001b[38;5;28;01mfrom\u001b[39;00m \u001b[38;5;21;01mtvm\u001b[39;00m\u001b[38;5;21;01m.\u001b[39;00m\u001b[38;5;21;01mcontrib\u001b[39;00m\u001b[38;5;21;01m.\u001b[39;00m\u001b[38;5;21;01mdownload\u001b[39;00m \u001b[38;5;28;01mimport\u001b[39;00m download_testdata\n\u001b[1;32m      7\u001b[0m \u001b[38;5;28;01mfrom\u001b[39;00m \u001b[38;5;21;01mtvm\u001b[39;00m\u001b[38;5;21;01m.\u001b[39;00m\u001b[38;5;21;01mautotvm\u001b[39;00m\u001b[38;5;21;01m.\u001b[39;00m\u001b[38;5;21;01mmeasure\u001b[39;00m\u001b[38;5;21;01m.\u001b[39;00m\u001b[38;5;21;01mmeasure_methods\u001b[39;00m \u001b[38;5;28;01mimport\u001b[39;00m set_cuda_target_arch\n\u001b[0;32m----> 8\u001b[0m \u001b[43mset_cuda_target_arch\u001b[49m\u001b[43m(\u001b[49m\u001b[38;5;124;43m'\u001b[39;49m\u001b[38;5;124;43msm_62\u001b[39;49m\u001b[38;5;124;43m'\u001b[39;49m\u001b[43m)\u001b[49m\n",
      "File \u001b[0;32m~/Desktop/tvm/python/tvm/autotvm/measure/measure_methods.py:856\u001b[0m, in \u001b[0;36mset_cuda_target_arch\u001b[0;34m(arch)\u001b[0m\n\u001b[1;32m    844\u001b[0m \u001b[38;5;28;01mdef\u001b[39;00m \u001b[38;5;21mset_cuda_target_arch\u001b[39m(arch):\n\u001b[1;32m    845\u001b[0m     \u001b[38;5;124;03m\"\"\"THIS API IS DEPRECATED.\u001b[39;00m\n\u001b[1;32m    846\u001b[0m \n\u001b[1;32m    847\u001b[0m \u001b[38;5;124;03m    set target architecture of nvcc compiler\u001b[39;00m\n\u001b[0;32m   (...)\u001b[0m\n\u001b[1;32m    854\u001b[0m \u001b[38;5;124;03m        e.g., [\"-gencode\", \"arch=compute_52,code=sm_52\", \"-gencode\", \"arch=compute_70,code=sm_70\"]\u001b[39;00m\n\u001b[1;32m    855\u001b[0m \u001b[38;5;124;03m    \"\"\"\u001b[39;00m\n\u001b[0;32m--> 856\u001b[0m     \u001b[38;5;28;01mraise\u001b[39;00m \u001b[38;5;167;01mValueError\u001b[39;00m(\n\u001b[1;32m    857\u001b[0m         \u001b[38;5;124m\"\u001b[39m\u001b[38;5;124mThe API \u001b[39m\u001b[38;5;124m'\u001b[39m\u001b[38;5;124mautotvm.measure.set_cuda_target_arch\u001b[39m\u001b[38;5;124m'\u001b[39m\u001b[38;5;124m is deprecated.\u001b[39m\u001b[38;5;124m\"\u001b[39m\n\u001b[1;32m    858\u001b[0m         \u001b[38;5;124m\"\u001b[39m\u001b[38;5;124mTry specifying it by adding \u001b[39m\u001b[38;5;124m'\u001b[39m\u001b[38;5;124m-arch=sm_xx\u001b[39m\u001b[38;5;124m'\u001b[39m\u001b[38;5;124m to your target, such as \u001b[39m\u001b[38;5;124m'\u001b[39m\u001b[38;5;124mcuda -arch=sm_86\u001b[39m\u001b[38;5;124m'\u001b[39m\u001b[38;5;124m.\u001b[39m\u001b[38;5;124m\"\u001b[39m\n\u001b[1;32m    859\u001b[0m         \u001b[38;5;124m\"\u001b[39m\u001b[38;5;124mSee https://github.com/apache/tvm/pull/9544 for the upgrade guide.\u001b[39m\u001b[38;5;124m\"\u001b[39m\n\u001b[1;32m    860\u001b[0m     )\n",
      "\u001b[0;31mValueError\u001b[0m: The API 'autotvm.measure.set_cuda_target_arch' is deprecated.Try specifying it by adding '-arch=sm_xx' to your target, such as 'cuda -arch=sm_86'.See https://github.com/apache/tvm/pull/9544 for the upgrade guide."
     ]
    }
   ],
   "source": [
    "import tvm\n",
    "from tvm import te\n",
    "import tvm.relay as relay\n",
    "from tvm import rpc\n",
    "from tvm.contrib import utils, graph_executor as runtime\n",
    "from tvm.contrib.download import download_testdata\n",
    "from tvm.autotvm.measure.measure_methods import set_cuda_target_arch\n",
    "set_cuda_target_arch('sm_62')"
   ]
  },
  {
   "cell_type": "code",
   "execution_count": 19,
   "id": "50f79fb8",
   "metadata": {},
   "outputs": [],
   "source": [
    "from mxnet.gluon.model_zoo.vision import get_model\n",
    "from PIL import Image\n",
    "import numpy as np\n",
    "\n",
    "# one line to get the model\n",
    "block = get_model(\"resnet18_v1\", pretrained=True)"
   ]
  },
  {
   "cell_type": "code",
   "execution_count": 20,
   "id": "5086952e",
   "metadata": {},
   "outputs": [],
   "source": [
    "img_url = \"https://github.com/dmlc/mxnet.js/blob/main/data/cat.png?raw=true\"\n",
    "img_name = \"cat.png\"\n",
    "img_path = download_testdata(img_url, img_name, module=\"data\")\n",
    "image = Image.open(img_path).resize((224, 224))\n",
    "\n",
    "\n",
    "def transform_image(image):\n",
    "    image = np.array(image) - np.array([123.0, 117.0, 104.0])\n",
    "    image /= np.array([58.395, 57.12, 57.375])\n",
    "    image = image.transpose((2, 0, 1))\n",
    "    image = image[np.newaxis, :]\n",
    "    return image\n",
    "\n",
    "\n",
    "x = transform_image(image)"
   ]
  },
  {
   "cell_type": "code",
   "execution_count": 21,
   "id": "5c73d392",
   "metadata": {},
   "outputs": [],
   "source": [
    "synset_url = \"\".join(\n",
    "    [\n",
    "        \"https://gist.githubusercontent.com/zhreshold/\",\n",
    "        \"4d0b62f3d01426887599d4f7ede23ee5/raw/\",\n",
    "        \"596b27d23537e5a1b5751d2b0481ef172f58b539/\",\n",
    "        \"imagenet1000_clsid_to_human.txt\",\n",
    "    ]\n",
    ")\n",
    "synset_name = \"imagenet1000_clsid_to_human.txt\"\n",
    "synset_path = download_testdata(synset_url, synset_name, module=\"data\")\n",
    "with open(synset_path) as f:\n",
    "    synset = eval(f.read())"
   ]
  },
  {
   "cell_type": "code",
   "execution_count": 22,
   "id": "2e673117",
   "metadata": {},
   "outputs": [],
   "source": [
    "# We support MXNet static graph(symbol) and HybridBlock in mxnet.gluon\n",
    "shape_dict = {\"data\": x.shape}\n",
    "mod, params = relay.frontend.from_mxnet(block, shape_dict)\n",
    "# we want a probability so add a softmax operator\n",
    "func = mod[\"main\"]\n",
    "func = relay.Function(func.params, relay.nn.softmax(func.body), None, func.type_params, func.attrs)"
   ]
  },
  {
   "cell_type": "code",
   "execution_count": 23,
   "id": "e4d077e7",
   "metadata": {},
   "outputs": [],
   "source": [
    "local_demo = True\n",
    "\n",
    "if local_demo:\n",
    "    target = tvm.target.Target(\"llvm\")\n",
    "else:\n",
    "    target = tvm.target.Target(target='cuda -arch=sm_62'', host='llvm -mtriple=aarch64-linux-gnu')\n",
    "    # target = tvm.target.arm_cpu(\"rasp3b\")\n",
    "    # The above line is a simple form of\n",
    "    # target = tvm.target.Target('llvm -device=arm_cpu -model=bcm2837 -mtriple=armv7l-linux-gnueabihf -mattr=+neon')\n",
    "\n",
    "with tvm.transform.PassContext(opt_level=3):\n",
    "    lib = relay.build(func, target, params=params)\n",
    "\n",
    "# After `relay.build`, you will get three return values: graph,\n",
    "# library and the new parameter, since we do some optimization that will\n",
    "# change the parameters but keep the result of model as the same.\n",
    "\n",
    "# Save the library at local temporary directory.\n",
    "tmp = utils.tempdir()\n",
    "lib_fname = tmp.relpath(\"net.tar\")\n",
    "lib.export_library(lib_fname)"
   ]
  },
  {
   "cell_type": "code",
   "execution_count": 24,
   "id": "459d89e3",
   "metadata": {},
   "outputs": [
    {
     "name": "stderr",
     "output_type": "stream",
     "text": [
      "2022-07-22 15:35:17.462 INFO load_module /tmp/tmpozxfcuhx/net.tar\n"
     ]
    },
    {
     "name": "stdout",
     "output_type": "stream",
     "text": [
      "TVM prediction top-1: tiger cat\n"
     ]
    }
   ],
   "source": [
    "# obtain an RPC session from remote device.\n",
    "if local_demo:\n",
    "    remote = rpc.LocalSession()\n",
    "else:\n",
    "    # The following is my environment, change this to the IP address of your target device\n",
    "    host = \"192.168.55.1\"\n",
    "    port = 9090\n",
    "    remote = rpc.connect(host, port)\n",
    "\n",
    "# upload the library to remote device and load it\n",
    "remote.upload(lib_fname)\n",
    "rlib = remote.load_module(\"net.tar\")\n",
    "\n",
    "# create the remote runtime module\n",
    "dev = remote.cpu(0)\n",
    "module = runtime.GraphModule(rlib[\"default\"](dev))\n",
    "# set input data\n",
    "module.set_input(\"data\", tvm.nd.array(x.astype(\"float32\")))\n",
    "# run\n",
    "module.run()\n",
    "# get output\n",
    "out = module.get_output(0)\n",
    "# get top1 result\n",
    "top1 = np.argmax(out.numpy())\n",
    "print(\"TVM prediction top-1: {}\".format(synset[top1]))"
   ]
  },
  {
   "cell_type": "code",
   "execution_count": 25,
   "id": "6b3672db",
   "metadata": {},
   "outputs": [
    {
     "data": {
      "text/plain": [
       "['MASK2STR',\n",
       " 'STR2MASK',\n",
       " '_GetDeviceAttr',\n",
       " '__class__',\n",
       " '__ctypes_from_outparam__',\n",
       " '__delattr__',\n",
       " '__dict__',\n",
       " '__dir__',\n",
       " '__doc__',\n",
       " '__eq__',\n",
       " '__format__',\n",
       " '__ge__',\n",
       " '__getattribute__',\n",
       " '__gt__',\n",
       " '__hash__',\n",
       " '__init__',\n",
       " '__init_subclass__',\n",
       " '__le__',\n",
       " '__lt__',\n",
       " '__module__',\n",
       " '__ne__',\n",
       " '__new__',\n",
       " '__reduce__',\n",
       " '__reduce_ex__',\n",
       " '__repr__',\n",
       " '__setattr__',\n",
       " '__setstate__',\n",
       " '__sizeof__',\n",
       " '__str__',\n",
       " '__subclasshook__',\n",
       " '__weakref__',\n",
       " '_b_base_',\n",
       " '_b_needsfree_',\n",
       " '_fields_',\n",
       " '_objects',\n",
       " '_rpc_sess',\n",
       " 'api_version',\n",
       " 'compute_version',\n",
       " 'create_raw_stream',\n",
       " 'device_id',\n",
       " 'device_name',\n",
       " 'device_type',\n",
       " 'driver_version',\n",
       " 'exist',\n",
       " 'free_raw_stream',\n",
       " 'max_clock_rate',\n",
       " 'max_shared_memory_per_block',\n",
       " 'max_thread_dimensions',\n",
       " 'max_threads_per_block',\n",
       " 'multi_processor_count',\n",
       " 'set_raw_stream',\n",
       " 'sync',\n",
       " 'texture_spatial_limit',\n",
       " 'warp_size']"
      ]
     },
     "execution_count": 25,
     "metadata": {},
     "output_type": "execute_result"
    }
   ],
   "source": [
    "dir(remote.device(2))"
   ]
  },
  {
   "cell_type": "code",
   "execution_count": 27,
   "id": "9a66b350",
   "metadata": {},
   "outputs": [
    {
     "data": {
      "text/plain": [
       "False"
      ]
     },
     "execution_count": 27,
     "metadata": {},
     "output_type": "execute_result"
    }
   ],
   "source": [
    "remote.device(2).exist"
   ]
  },
  {
   "cell_type": "code",
   "execution_count": null,
   "id": "a150d9a5",
   "metadata": {},
   "outputs": [],
   "source": []
  }
 ],
 "metadata": {
  "kernelspec": {
   "display_name": "Python 3 (ipykernel)",
   "language": "python",
   "name": "python3"
  },
  "language_info": {
   "codemirror_mode": {
    "name": "ipython",
    "version": 3
   },
   "file_extension": ".py",
   "mimetype": "text/x-python",
   "name": "python",
   "nbconvert_exporter": "python",
   "pygments_lexer": "ipython3",
   "version": "3.8.10"
  }
 },
 "nbformat": 4,
 "nbformat_minor": 5
}
