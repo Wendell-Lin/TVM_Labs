{
 "cells": [
  {
   "cell_type": "code",
   "execution_count": 1,
   "id": "bce0262e",
   "metadata": {},
   "outputs": [],
   "source": [
    "import tvm"
   ]
  },
  {
   "cell_type": "code",
   "execution_count": 2,
   "id": "6ecf68f3",
   "metadata": {},
   "outputs": [
    {
     "name": "stderr",
     "output_type": "stream",
     "text": [
      "[14:11:29] /home/wendell/Desktop/tvm/src/target/target_kind.cc:163: Warning: Unable to detect CUDA version, default to \"-arch=sm_20\" instead\n"
     ]
    }
   ],
   "source": [
    "target = tvm.target.Target(target='cuda', host='llvm -mtriple=aarch64-linux-gnu')"
   ]
  },
  {
   "cell_type": "code",
   "execution_count": null,
   "id": "4d2d546e",
   "metadata": {},
   "outputs": [],
   "source": []
  }
 ],
 "metadata": {
  "kernelspec": {
   "display_name": "Python 3 (ipykernel)",
   "language": "python",
   "name": "python3"
  },
  "language_info": {
   "codemirror_mode": {
    "name": "ipython",
    "version": 3
   },
   "file_extension": ".py",
   "mimetype": "text/x-python",
   "name": "python",
   "nbconvert_exporter": "python",
   "pygments_lexer": "ipython3",
   "version": "3.8.10"
  }
 },
 "nbformat": 4,
 "nbformat_minor": 5
}
