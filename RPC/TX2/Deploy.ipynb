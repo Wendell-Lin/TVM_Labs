{
 "cells": [
  {
   "cell_type": "code",
   "execution_count": 1,
   "id": "8b1c662d",
   "metadata": {},
   "outputs": [],
   "source": [
    "import tvm\n",
    "from tvm import te\n",
    "import tvm.relay as relay\n",
    "from tvm import rpc\n",
    "from tvm.contrib import utils, graph_executor as runtime\n",
    "from tvm.contrib.download import download_testdata"
   ]
  },
  {
   "cell_type": "code",
   "execution_count": 2,
   "id": "50f79fb8",
   "metadata": {},
   "outputs": [],
   "source": [
    "from mxnet.gluon.model_zoo.vision import get_model\n",
    "from PIL import Image\n",
    "import numpy as np\n",
    "\n",
    "# one line to get the model\n",
    "block = get_model(\"resnet18_v1\", pretrained=True)"
   ]
  },
  {
   "cell_type": "code",
   "execution_count": 3,
   "id": "5086952e",
   "metadata": {},
   "outputs": [],
   "source": [
    "img_url = \"https://github.com/dmlc/mxnet.js/blob/main/data/cat.png?raw=true\"\n",
    "img_name = \"cat.png\"\n",
    "img_path = download_testdata(img_url, img_name, module=\"data\")\n",
    "image = Image.open(img_path).resize((224, 224))\n",
    "\n",
    "\n",
    "def transform_image(image):\n",
    "    image = np.array(image) - np.array([123.0, 117.0, 104.0])\n",
    "    image /= np.array([58.395, 57.12, 57.375])\n",
    "    image = image.transpose((2, 0, 1))\n",
    "    image = image[np.newaxis, :]\n",
    "    return image\n",
    "\n",
    "\n",
    "x = transform_image(image)"
   ]
  },
  {
   "cell_type": "code",
   "execution_count": 4,
   "id": "5c73d392",
   "metadata": {},
   "outputs": [],
   "source": [
    "synset_url = \"\".join(\n",
    "    [\n",
    "        \"https://gist.githubusercontent.com/zhreshold/\",\n",
    "        \"4d0b62f3d01426887599d4f7ede23ee5/raw/\",\n",
    "        \"596b27d23537e5a1b5751d2b0481ef172f58b539/\",\n",
    "        \"imagenet1000_clsid_to_human.txt\",\n",
    "    ]\n",
    ")\n",
    "synset_name = \"imagenet1000_clsid_to_human.txt\"\n",
    "synset_path = download_testdata(synset_url, synset_name, module=\"data\")\n",
    "with open(synset_path) as f:\n",
    "    synset = eval(f.read())"
   ]
  },
  {
   "cell_type": "code",
   "execution_count": 5,
   "id": "2e673117",
   "metadata": {},
   "outputs": [],
   "source": [
    "# We support MXNet static graph(symbol) and HybridBlock in mxnet.gluon\n",
    "shape_dict = {\"data\": x.shape}\n",
    "mod, params = relay.frontend.from_mxnet(block, shape_dict)\n",
    "# we want a probability so add a softmax operator\n",
    "func = mod[\"main\"]\n",
    "func = relay.Function(func.params, relay.nn.softmax(func.body), None, func.type_params, func.attrs)"
   ]
  },
  {
   "cell_type": "code",
   "execution_count": 6,
   "id": "e4d077e7",
   "metadata": {},
   "outputs": [
    {
     "name": "stderr",
     "output_type": "stream",
     "text": [
      "dense is not optimized for arm cpu.\n",
      "pool is not optimized for arm cpu.\n",
      "dense is not optimized for arm cpu.\n"
     ]
    }
   ],
   "source": [
    "GPU = False\n",
    "# obtain an RPC session from remote device.\n",
    "# The following is my environment, change this to the IP address of your target device\n",
    "host = \"192.168.55.1\"\n",
    "port = 9090\n",
    "remote = rpc.connect(host, port)\n",
    "\n",
    "\n",
    "if GPU:\n",
    "    target = tvm.target.Target(target='cuda -arch=sm_62', host='llvm -mtriple=aarch64-linux-gnu')\n",
    "else:\n",
    "    target = tvm.target.Target('llvm -mtriple=aarch64-linux-gnu -device=arm_cpu -mattr=+neon')\n",
    "    # target = tvm.target.arm_cpu(\"rasp3b\")\n",
    "    # The above line is a simple form of\n",
    "    # target = tvm.target.Target('llvm -device=arm_cpu -model=bcm2837 -mtriple=armv7l-linux-gnueabihf -mattr=+neon')\n",
    "\n",
    "with tvm.transform.PassContext(opt_level=3):\n",
    "    lib = relay.build(func, target, params=params)\n",
    "\n",
    "# After `relay.build`, you will get three return values: graph,\n",
    "# library and the new parameter, since we do some optimization that will\n",
    "# change the parameters but keep the result of model as the same.\n",
    "\n",
    "# Save the library at local temporary directory.\n",
    "tmp = utils.tempdir()\n",
    "lib_fname = tmp.relpath(\"net_cpu.tar\")\n",
    "lib.export_library(lib_fname)"
   ]
  },
  {
   "cell_type": "code",
   "execution_count": 7,
   "id": "459d89e3",
   "metadata": {},
   "outputs": [
    {
     "name": "stdout",
     "output_type": "stream",
     "text": [
      "TVM prediction top-1: tiger cat\n"
     ]
    }
   ],
   "source": [
    "# upload the library to remote device and load it\n",
    "remote.upload(lib_fname)\n",
    "rlib = remote.load_module(\"net_cpu.tar\")\n",
    "\n",
    "# create the remote runtime module\n",
    "dev = remote.cuda(0) if GPU else remote.cpu(0)\n",
    "module = runtime.GraphModule(rlib[\"default\"](dev))\n",
    "# set input data\n",
    "module.set_input(\"data\", tvm.nd.array(x.astype(\"float32\")))\n",
    "# run\n",
    "module.run()\n",
    "# get output\n",
    "out = module.get_output(0)\n",
    "# get top1 result\n",
    "top1 = np.argmax(out.numpy())\n",
    "print(\"TVM prediction top-1: {}\".format(synset[top1]))"
   ]
  },
  {
   "cell_type": "code",
   "execution_count": 8,
   "id": "9f86cf81",
   "metadata": {},
   "outputs": [],
   "source": [
    "ftimer = module.module.time_evaluator('run', dev)"
   ]
  },
  {
   "cell_type": "code",
   "execution_count": 9,
   "id": "1d1eeebc",
   "metadata": {},
   "outputs": [
    {
     "data": {
      "text/plain": [
       "0.08995229369999996"
      ]
     },
     "execution_count": 9,
     "metadata": {},
     "output_type": "execute_result"
    }
   ],
   "source": [
    "np.array(ftimer().results * 1000).mean()"
   ]
  },
  {
   "cell_type": "markdown",
   "id": "fbbbff15",
   "metadata": {},
   "source": [
    "CPU: 0.114ms \n",
    "GPU: 0.021ms"
   ]
  }
 ],
 "metadata": {
  "kernelspec": {
   "display_name": "Python 3 (ipykernel)",
   "language": "python",
   "name": "python3"
  },
  "language_info": {
   "codemirror_mode": {
    "name": "ipython",
    "version": 3
   },
   "file_extension": ".py",
   "mimetype": "text/x-python",
   "name": "python",
   "nbconvert_exporter": "python",
   "pygments_lexer": "ipython3",
   "version": "3.8.10"
  }
 },
 "nbformat": 4,
 "nbformat_minor": 5
}
