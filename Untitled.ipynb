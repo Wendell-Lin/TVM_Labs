{
 "cells": [
  {
   "cell_type": "code",
   "execution_count": 1,
   "id": "456037e1",
   "metadata": {},
   "outputs": [],
   "source": [
    "from tvm import testing"
   ]
  },
  {
   "cell_type": "code",
   "execution_count": 2,
   "id": "61c7933e",
   "metadata": {},
   "outputs": [],
   "source": [
    "testing.utils.install_request_hook(depth=3)"
   ]
  }
 ],
 "metadata": {
  "kernelspec": {
   "display_name": "Python 3 (ipykernel)",
   "language": "python",
   "name": "python3"
  },
  "language_info": {
   "codemirror_mode": {
    "name": "ipython",
    "version": 3
   },
   "file_extension": ".py",
   "mimetype": "text/x-python",
   "name": "python",
   "nbconvert_exporter": "python",
   "pygments_lexer": "ipython3",
   "version": "3.8.10"
  }
 },
 "nbformat": 4,
 "nbformat_minor": 5
}
