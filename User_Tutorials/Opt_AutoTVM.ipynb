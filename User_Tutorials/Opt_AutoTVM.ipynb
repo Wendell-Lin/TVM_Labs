{
 "cells": [
  {
   "cell_type": "code",
   "execution_count": 1,
   "id": "84515e0b",
   "metadata": {},
   "outputs": [],
   "source": [
    "import logging\n",
    "import sys\n",
    "\n",
    "import numpy as np\n",
    "import tvm\n",
    "from tvm import te\n",
    "import tvm.testing\n",
    "\n",
    "# the module is called `autotvm`\n",
    "from tvm import autotvm"
   ]
  },
  {
   "cell_type": "code",
   "execution_count": 2,
   "id": "07dd49ed",
   "metadata": {},
   "outputs": [],
   "source": [
    "def matmul_basic(N, L, M, dtype):\n",
    "\n",
    "    A = te.placeholder((N, L), name=\"A\", dtype=dtype)\n",
    "    B = te.placeholder((L, M), name=\"B\", dtype=dtype)\n",
    "\n",
    "    k = te.reduce_axis((0, L), name=\"k\")\n",
    "    C = te.compute((N, M), lambda i, j: te.sum(A[i, k] * B[k, j], axis=k), name=\"C\")\n",
    "    s = te.create_schedule(C.op)\n",
    "\n",
    "    # schedule\n",
    "    y, x = s[C].op.axis\n",
    "    k = s[C].op.reduce_axis[0]\n",
    "\n",
    "    yo, yi = s[C].split(y, 8)\n",
    "    xo, xi = s[C].split(x, 8)\n",
    "\n",
    "    s[C].reorder(yo, xo, k, yi, xi)\n",
    "\n",
    "    return s, [A, B, C]"
   ]
  },
  {
   "cell_type": "code",
   "execution_count": 3,
   "id": "b5c4b0b3",
   "metadata": {},
   "outputs": [],
   "source": [
    "# Matmul V1: List candidate values\n",
    "@autotvm.template(\"tutorial/matmul_v1\")  # 1. use a decorator\n",
    "def matmul_v1(N, L, M, dtype):\n",
    "    A = te.placeholder((N, L), name=\"A\", dtype=dtype)\n",
    "    B = te.placeholder((L, M), name=\"B\", dtype=dtype)\n",
    "\n",
    "    k = te.reduce_axis((0, L), name=\"k\")\n",
    "    C = te.compute((N, M), lambda i, j: te.sum(A[i, k] * B[k, j], axis=k), name=\"C\")\n",
    "    s = te.create_schedule(C.op)\n",
    "\n",
    "    # schedule\n",
    "    y, x = s[C].op.axis\n",
    "    k = s[C].op.reduce_axis[0]\n",
    "\n",
    "    # 2. get the config object\n",
    "    cfg = autotvm.get_config()\n",
    "\n",
    "    # 3. define search space\n",
    "    cfg.define_knob(\"tile_y\", [1, 2, 4, 8, 16])\n",
    "    cfg.define_knob(\"tile_x\", [1, 2, 4, 8, 16])\n",
    "\n",
    "    # 4. schedule according to config\n",
    "    yo, yi = s[C].split(y, cfg[\"tile_y\"].val)\n",
    "    xo, xi = s[C].split(x, cfg[\"tile_x\"].val)\n",
    "\n",
    "    s[C].reorder(yo, xo, k, yi, xi)\n",
    "\n",
    "    return s, [A, B, C]"
   ]
  },
  {
   "cell_type": "code",
   "execution_count": 4,
   "id": "e8970ff4",
   "metadata": {},
   "outputs": [],
   "source": [
    "@autotvm.template(\"tutorial/matmul\")\n",
    "def matmul(N, L, M, dtype):\n",
    "    A = te.placeholder((N, L), name=\"A\", dtype=dtype)\n",
    "    B = te.placeholder((L, M), name=\"B\", dtype=dtype)\n",
    "\n",
    "    k = te.reduce_axis((0, L), name=\"k\")\n",
    "    C = te.compute((N, M), lambda i, j: te.sum(A[i, k] * B[k, j], axis=k), name=\"C\")\n",
    "    s = te.create_schedule(C.op)\n",
    "\n",
    "    # schedule\n",
    "    y, x = s[C].op.axis\n",
    "    k = s[C].op.reduce_axis[0]\n",
    "\n",
    "    ##### define space begin #####\n",
    "    cfg = autotvm.get_config()\n",
    "    cfg.define_split(\"tile_y\", y, num_outputs=2)\n",
    "    cfg.define_split(\"tile_x\", x, num_outputs=2)\n",
    "    ##### define space end #####\n",
    "\n",
    "    # schedule according to config\n",
    "    yo, yi = cfg[\"tile_y\"].apply(s, C, y)\n",
    "    xo, xi = cfg[\"tile_x\"].apply(s, C, x)\n",
    "\n",
    "    s[C].reorder(yo, xo, k, yi, xi)\n",
    "\n",
    "    return s, [A, B, C]"
   ]
  },
  {
   "cell_type": "code",
   "execution_count": 5,
   "id": "3111ad53",
   "metadata": {},
   "outputs": [
    {
     "name": "stdout",
     "output_type": "stream",
     "text": [
      "ConfigSpace (len=100, space_map=\n",
      "   0 tile_y: Split(policy=factors, product=512, num_outputs=2) len=10\n",
      "   1 tile_x: Split(policy=factors, product=512, num_outputs=2) len=10\n",
      ")\n"
     ]
    }
   ],
   "source": [
    "N, L, M = 512, 512, 512\n",
    "task = autotvm.task.create(\"tutorial/matmul\", args=(N, L, M, \"float32\"), target=\"llvm\")\n",
    "print(task.config_space)"
   ]
  },
  {
   "cell_type": "code",
   "execution_count": 6,
   "id": "ed32559b",
   "metadata": {},
   "outputs": [],
   "source": [
    "# logging config (for printing tuning log to the screen)\n",
    "logging.getLogger(\"autotvm\").setLevel(logging.DEBUG)\n",
    "logging.getLogger(\"autotvm\").addHandler(logging.StreamHandler(sys.stdout))"
   ]
  },
  {
   "cell_type": "code",
   "execution_count": 7,
   "id": "96bf8016",
   "metadata": {},
   "outputs": [
    {
     "name": "stdout",
     "output_type": "stream",
     "text": [
      "waiting for device...\n",
      "device available\n",
      "Get devices for measurement successfully!\n",
      "No: 1\tGFLOPS: 39.24/39.24\tresult: MeasureResult(costs=(0.0068403258,), error_no=MeasureErrorNo.NO_ERROR, all_cost=0.2733898162841797, timestamp=1658200155.6213553)\t[('tile_y', [-1, 64]), ('tile_x', [-1, 64])],None,66\n",
      "No: 2\tGFLOPS: 33.20/39.24\tresult: MeasureResult(costs=(0.0080861924,), error_no=MeasureErrorNo.NO_ERROR, all_cost=0.2076733112335205, timestamp=1658200155.9056456)\t[('tile_y', [-1, 1]), ('tile_x', [-1, 512])],None,90\n",
      "No: 3\tGFLOPS: 7.14/39.24\tresult: MeasureResult(costs=(0.0376084558,), error_no=MeasureErrorNo.NO_ERROR, all_cost=0.6754891872406006, timestamp=1658200156.6632645)\t[('tile_y', [-1, 512]), ('tile_x', [-1, 8])],None,39\n",
      "No: 4\tGFLOPS: 25.91/39.24\tresult: MeasureResult(costs=(0.0103595824,), error_no=MeasureErrorNo.NO_ERROR, all_cost=0.28516387939453125, timestamp=1658200157.029766)\t[('tile_y', [-1, 2]), ('tile_x', [-1, 32])],None,51\n",
      "No: 5\tGFLOPS: 6.19/39.24\tresult: MeasureResult(costs=(0.04334259880000001,), error_no=MeasureErrorNo.NO_ERROR, all_cost=0.7585034370422363, timestamp=1658200157.8703027)\t[('tile_y', [-1, 2]), ('tile_x', [-1, 4])],None,21\n",
      "No: 6\tGFLOPS: 9.23/39.24\tresult: MeasureResult(costs=(0.0290775008,), error_no=MeasureErrorNo.NO_ERROR, all_cost=0.5392487049102783, timestamp=1658200158.4913628)\t[('tile_y', [-1, 16]), ('tile_x', [-1, 4])],None,24\n",
      "No: 7\tGFLOPS: 1.03/39.24\tresult: MeasureResult(costs=(0.2612534354,), error_no=MeasureErrorNo.NO_ERROR, all_cost=4.293225526809692, timestamp=1658200162.8704145)\t[('tile_y', [-1, 256]), ('tile_x', [-1, 1])],None,8\n",
      "No: 8\tGFLOPS: 30.36/39.24\tresult: MeasureResult(costs=(0.008842316800000001,), error_no=MeasureErrorNo.NO_ERROR, all_cost=0.23813533782958984, timestamp=1658200163.1732821)\t[('tile_y', [-1, 8]), ('tile_x', [-1, 32])],None,53\n",
      "No: 9\tGFLOPS: 37.81/39.24\tresult: MeasureResult(costs=(0.0070995974,), error_no=MeasureErrorNo.NO_ERROR, all_cost=0.19628143310546875, timestamp=1658200163.4439242)\t[('tile_y', [-1, 4]), ('tile_x', [-1, 256])],None,82\n",
      "No: 10\tGFLOPS: 30.65/39.24\tresult: MeasureResult(costs=(0.0087574932,), error_no=MeasureErrorNo.NO_ERROR, all_cost=0.27327775955200195, timestamp=1658200163.7936218)\t[('tile_y', [-1, 4]), ('tile_x', [-1, 32])],None,52\n"
     ]
    }
   ],
   "source": [
    "measure_option = autotvm.measure_option(builder=\"local\", runner=autotvm.LocalRunner(number=5))\n",
    "\n",
    "# Begin tuning with RandomTuner, log records to file `matmul.log`\n",
    "# You can use alternatives like XGBTuner.\n",
    "tuner = autotvm.tuner.RandomTuner(task)\n",
    "tuner.tune(\n",
    "    n_trial=10,\n",
    "    measure_option=measure_option,\n",
    "    callbacks=[autotvm.callback.log_to_file(\"matmul.log\")],\n",
    ")"
   ]
  },
  {
   "cell_type": "code",
   "execution_count": 8,
   "id": "c40907a4",
   "metadata": {},
   "outputs": [],
   "source": [
    "def eval_op(s, vars, tgt, name, opt, log) -> None:\n",
    "    func = tvm.build(s, vars, target=tgt, name=name)\n",
    "    assert func\n",
    "    \n",
    "    a = tvm.nd.array(a_np)\n",
    "    b = tvm.nd.array(b_np)\n",
    "    \n",
    "    dev = tvm.device(tgt.kind.name, 0)\n",
    "    c = tvm.nd.array(np.zeros((M, N), 'float32'), dev)\n",
    "    func(a, b, c)\n",
    "#     tvm.testing.assert_allclose(c.numpy(), answer, rtol=1e-5)\n",
    "    \n",
    "    evalor = func.time_evaluator(func.entry_name, dev, number=1)\n",
    "    mean_time = evalor(a, b, c).mean\n",
    "    print('%s: %f' % (opt, mean_time))\n",
    "    log.append((opt, mean_time))\n",
    "    \n",
    "log = []"
   ]
  },
  {
   "cell_type": "code",
   "execution_count": 10,
   "id": "41b4751b",
   "metadata": {},
   "outputs": [
    {
     "name": "stdout",
     "output_type": "stream",
     "text": [
      "Basic: 0.023097\n"
     ]
    }
   ],
   "source": [
    "s, arg_bufs = matmul_basic(N, L, M, 'float32')\n",
    "func = tvm.build(s, arg_bufs)\n",
    "a_np = np.random.uniform(size=(N, L)).astype(np.float32)\n",
    "b_np = np.random.uniform(size=(L, M)).astype(np.float32)\n",
    "c_np = a_np.dot(b_np)\n",
    "\n",
    "c_tvm = tvm.nd.empty(c_np.shape)\n",
    "func(tvm.nd.array(a_np), tvm.nd.array(b_np), c_tvm)\n",
    "eval_op(s, arg_bufs, tvm.target.Target('llvm'), 'matmul', 'Basic', log)"
   ]
  },
  {
   "cell_type": "code",
   "execution_count": 11,
   "id": "9488b1b4",
   "metadata": {},
   "outputs": [
    {
     "name": "stdout",
     "output_type": "stream",
     "text": [
      "Finish loading 20 records\n",
      "AutoTVM: 0.006763\n"
     ]
    }
   ],
   "source": [
    "# apply history best from log file\n",
    "with autotvm.apply_history_best(\"matmul.log\"):\n",
    "    with tvm.target.Target(\"llvm\"):\n",
    "        s, arg_bufs = matmul(N, L, M, \"float32\")\n",
    "        func = tvm.build(s, arg_bufs)\n",
    "\n",
    "# check correctness\n",
    "a_np = np.random.uniform(size=(N, L)).astype(np.float32)\n",
    "b_np = np.random.uniform(size=(L, M)).astype(np.float32)\n",
    "c_np = a_np.dot(b_np)\n",
    "\n",
    "c_tvm = tvm.nd.empty(c_np.shape)\n",
    "func(tvm.nd.array(a_np), tvm.nd.array(b_np), c_tvm)\n",
    "\n",
    "eval_op(s, arg_bufs, tvm.target.Target(\"llvm\"),'matmul', 'AutoTVM', log)\n",
    "\n",
    "tvm.testing.assert_allclose(c_np, c_tvm.numpy(), rtol=1e-4)"
   ]
  },
  {
   "cell_type": "code",
   "execution_count": 13,
   "id": "60041af7",
   "metadata": {},
   "outputs": [
    {
     "name": "stdout",
     "output_type": "stream",
     "text": [
      "Basic: 0.023097\n",
      "AutoTVM: 0.006763\n"
     ]
    }
   ],
   "source": [
    "for opt, time in log:\n",
    "    print('%s: %f' % (opt, time))"
   ]
  }
 ],
 "metadata": {
  "kernelspec": {
   "display_name": "Python 3 (ipykernel)",
   "language": "python",
   "name": "python3"
  },
  "language_info": {
   "codemirror_mode": {
    "name": "ipython",
    "version": 3
   },
   "file_extension": ".py",
   "mimetype": "text/x-python",
   "name": "python",
   "nbconvert_exporter": "python",
   "pygments_lexer": "ipython3",
   "version": "3.8.10"
  }
 },
 "nbformat": 4,
 "nbformat_minor": 5
}
