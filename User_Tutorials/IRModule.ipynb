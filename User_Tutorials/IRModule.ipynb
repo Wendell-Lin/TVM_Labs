{
 "cells": [
  {
   "cell_type": "code",
   "execution_count": 2,
   "id": "d2a9c388",
   "metadata": {},
   "outputs": [],
   "source": [
    "import tvm\n",
    "from tvm.ir.module import IRModule\n",
    "from tvm.script import tir as T\n",
    "import numpy as np"
   ]
  },
  {
   "cell_type": "code",
   "execution_count": 3,
   "id": "b9ea95f7",
   "metadata": {},
   "outputs": [
    {
     "name": "stdout",
     "output_type": "stream",
     "text": [
      "<class 'tvm.ir.module.IRModule'>\n",
      "# from tvm.script import tir as T\n",
      "@tvm.script.ir_module\n",
      "class Module:\n",
      "    @T.prim_func\n",
      "    def main(A: T.Buffer[8, \"float32\"], B: T.Buffer[8, \"float32\"]) -> None:\n",
      "        # function attr dict\n",
      "        T.func_attr({\"global_symbol\": \"main\", \"tir.noalias\": True})\n",
      "        # body\n",
      "        # with T.block(\"root\")\n",
      "        for i in T.serial(8):\n",
      "            with T.block(\"B\"):\n",
      "                vi = T.axis.spatial(8, i)\n",
      "                T.reads(A[vi])\n",
      "                T.writes(B[vi])\n",
      "                B[vi] = A[vi] + T.float32(1)\n",
      "    \n",
      "\n"
     ]
    }
   ],
   "source": [
    "@tvm.script.ir_module\n",
    "class MyModule:\n",
    "    @T.prim_func\n",
    "    def main(a: T.handle, b: T.handle):\n",
    "        # We exchange data between function by handles, which are similar to pointer.\n",
    "        T.func_attr({\"global_symbol\": \"main\", \"tir.noalias\": True})\n",
    "        # Create buffer from handles.\n",
    "        A = T.match_buffer(a, (8,), dtype=\"float32\")\n",
    "        B = T.match_buffer(b, (8,), dtype=\"float32\")\n",
    "        for i in range(8):\n",
    "            # A block is an abstraction for computation.\n",
    "            with T.block(\"B\"):\n",
    "                # Define a spatial block iterator and bind it to value i.\n",
    "                vi = T.axis.spatial(8, i)\n",
    "                B[vi] = A[vi] + 1.0\n",
    "\n",
    "\n",
    "ir_module = MyModule\n",
    "print(type(ir_module))\n",
    "print(ir_module.script())"
   ]
  },
  {
   "cell_type": "code",
   "execution_count": 4,
   "id": "a0746d62",
   "metadata": {},
   "outputs": [
    {
     "name": "stdout",
     "output_type": "stream",
     "text": [
      "# from tvm.script import tir as T\n",
      "@tvm.script.ir_module\n",
      "class Module:\n",
      "    @T.prim_func\n",
      "    def main(A: T.Buffer[8, \"float32\"], B: T.Buffer[8, \"float32\"]) -> None:\n",
      "        # function attr dict\n",
      "        T.func_attr({\"global_symbol\": \"main\", \"tir.noalias\": True})\n",
      "        # body\n",
      "        # with T.block(\"root\")\n",
      "        for i0 in T.serial(8):\n",
      "            with T.block(\"B\"):\n",
      "                i0_1 = T.axis.spatial(8, i0)\n",
      "                T.reads(A[i0_1])\n",
      "                T.writes(B[i0_1])\n",
      "                B[i0_1] = A[i0_1] + T.float32(1)\n",
      "    \n",
      "\n"
     ]
    }
   ],
   "source": [
    "from tvm import te\n",
    "\n",
    "A = te.placeholder((8,), dtype=\"float32\", name=\"A\")\n",
    "B = te.compute((8,), lambda *i: A(*i) + 1.0, name=\"B\")\n",
    "func = te.create_prim_func([A, B])\n",
    "ir_module_from_te = IRModule({\"main\": func})\n",
    "print(ir_module_from_te.script())"
   ]
  },
  {
   "cell_type": "code",
   "execution_count": 5,
   "id": "fa5c6187",
   "metadata": {},
   "outputs": [
    {
     "name": "stdout",
     "output_type": "stream",
     "text": [
      "<class 'tvm.driver.build_module.OperatorModule'>\n"
     ]
    }
   ],
   "source": [
    "mod = tvm.build(ir_module, target=\"llvm\")  # The module for CPU backends.\n",
    "print(type(mod))"
   ]
  },
  {
   "cell_type": "code",
   "execution_count": 8,
   "id": "74c884fb",
   "metadata": {},
   "outputs": [
    {
     "name": "stdout",
     "output_type": "stream",
     "text": [
      "[0. 1. 2. 3. 4. 5. 6. 7.]\n",
      "[1. 2. 3. 4. 5. 6. 7. 8.]\n"
     ]
    }
   ],
   "source": [
    "a = tvm.nd.array(np.arange(8).astype(\"float32\"))\n",
    "b = tvm.nd.array(np.zeros((8,)).astype(\"float32\"))\n",
    "mod(a, b)\n",
    "print(a)\n",
    "print(b)"
   ]
  },
  {
   "cell_type": "code",
   "execution_count": 13,
   "id": "b60bd131",
   "metadata": {},
   "outputs": [
    {
     "name": "stdout",
     "output_type": "stream",
     "text": [
      "# from tvm.script import tir as T\n",
      "@tvm.script.ir_module\n",
      "class Module:\n",
      "    @T.prim_func\n",
      "    def main(A: T.Buffer[8, \"float32\"], B: T.Buffer[8, \"float32\"]) -> None:\n",
      "        # function attr dict\n",
      "        T.func_attr({\"global_symbol\": \"main\", \"tir.noalias\": True})\n",
      "        # body\n",
      "        # with T.block(\"root\")\n",
      "        for i in T.serial(8):\n",
      "            with T.block(\"B\"):\n",
      "                vi = T.axis.spatial(8, i)\n",
      "                T.reads(A[vi])\n",
      "                T.writes(B[vi])\n",
      "                B[vi] = A[vi] + T.float32(1)\n",
      "    \n",
      "\n"
     ]
    }
   ],
   "source": [
    "sch = tvm.tir.Schedule(ir_module)\n",
    "print(sch.mod.script())"
   ]
  },
  {
   "cell_type": "code",
   "execution_count": 14,
   "id": "e74e461f",
   "metadata": {},
   "outputs": [
    {
     "name": "stdout",
     "output_type": "stream",
     "text": [
      "# from tvm.script import tir as T\n",
      "@tvm.script.ir_module\n",
      "class Module:\n",
      "    @T.prim_func\n",
      "    def main(A: T.Buffer[8, \"float32\"], B: T.Buffer[8, \"float32\"]) -> None:\n",
      "        # function attr dict\n",
      "        T.func_attr({\"global_symbol\": \"main\", \"tir.noalias\": True})\n",
      "        # body\n",
      "        # with T.block(\"root\")\n",
      "        for i_0, i_1, i_2 in T.grid(2, 2, 2):\n",
      "            with T.block(\"B\"):\n",
      "                vi = T.axis.spatial(8, i_0 * 4 + i_1 * 2 + i_2)\n",
      "                T.reads(A[vi])\n",
      "                T.writes(B[vi])\n",
      "                B[vi] = A[vi] + T.float32(1)\n",
      "    \n",
      "\n"
     ]
    }
   ],
   "source": [
    "# Get block by its name\n",
    "block_b = sch.get_block(\"B\")\n",
    "# Get loops surrounding the block\n",
    "(i,) = sch.get_loops(block_b)\n",
    "# Tile the loop nesting.\n",
    "i_0, i_1, i_2 = sch.split(i, factors=[2, 2, 2])\n",
    "print(sch.mod.script())"
   ]
  },
  {
   "cell_type": "code",
   "execution_count": 15,
   "id": "d5d0946f",
   "metadata": {},
   "outputs": [
    {
     "name": "stdout",
     "output_type": "stream",
     "text": [
      "# from tvm.script import tir as T\n",
      "@tvm.script.ir_module\n",
      "class Module:\n",
      "    @T.prim_func\n",
      "    def main(A: T.Buffer[8, \"float32\"], B: T.Buffer[8, \"float32\"]) -> None:\n",
      "        # function attr dict\n",
      "        T.func_attr({\"global_symbol\": \"main\", \"tir.noalias\": True})\n",
      "        # body\n",
      "        # with T.block(\"root\")\n",
      "        for i_0, i_2, i_1 in T.grid(2, 2, 2):\n",
      "            with T.block(\"B\"):\n",
      "                vi = T.axis.spatial(8, i_0 * 4 + i_1 * 2 + i_2)\n",
      "                T.reads(A[vi])\n",
      "                T.writes(B[vi])\n",
      "                B[vi] = A[vi] + T.float32(1)\n",
      "    \n",
      "\n"
     ]
    }
   ],
   "source": [
    "sch.reorder(i_0, i_2, i_1) # reorder i0 i1 i2 -> i0 i2 i1\n",
    "print(sch.mod.script())"
   ]
  },
  {
   "cell_type": "code",
   "execution_count": 16,
   "id": "97a18af1",
   "metadata": {},
   "outputs": [
    {
     "name": "stdout",
     "output_type": "stream",
     "text": [
      "# from tvm.script import tir as T\n",
      "@tvm.script.ir_module\n",
      "class Module:\n",
      "    @T.prim_func\n",
      "    def main(A: T.Buffer[8, \"float32\"], B: T.Buffer[8, \"float32\"]) -> None:\n",
      "        # function attr dict\n",
      "        T.func_attr({\"global_symbol\": \"main\", \"tir.noalias\": True})\n",
      "        # body\n",
      "        # with T.block(\"root\")\n",
      "        for i_0 in T.thread_binding(2, thread=\"blockIdx.x\"):\n",
      "            for i_2 in T.thread_binding(2, thread=\"threadIdx.x\"):\n",
      "                for i_1 in T.serial(2):\n",
      "                    with T.block(\"B\"):\n",
      "                        vi = T.axis.spatial(8, i_0 * 4 + i_1 * 2 + i_2)\n",
      "                        T.reads(A[vi])\n",
      "                        T.writes(B[vi])\n",
      "                        B[vi] = A[vi] + T.float32(1)\n",
      "    \n",
      "\n"
     ]
    }
   ],
   "source": [
    "sch.bind(i_0, \"blockIdx.x\")\n",
    "sch.bind(i_2, \"threadIdx.x\")\n",
    "print(sch.mod.script())"
   ]
  },
  {
   "cell_type": "code",
   "execution_count": 19,
   "id": "79b37560",
   "metadata": {},
   "outputs": [
    {
     "name": "stderr",
     "output_type": "stream",
     "text": [
      "[13:23:00] /home/wendell/Desktop/tvm/src/target/target_kind.cc:163: Warning: Unable to detect CUDA version, default to \"-arch=sm_20\" instead\n"
     ]
    },
    {
     "ename": "TVMError",
     "evalue": "Traceback (most recent call last):\n  3: TVMFuncCall\n  2: tvm::runtime::PackedFuncObj::Extractor<tvm::runtime::PackedFuncSubObj<tvm::runtime::TypedPackedFunc<tvm::runtime::Module (tvm::runtime::Map<tvm::Target, tvm::IRModule, void, void> const&, tvm::Target)>::AssignTypedLambda<tvm::{lambda(tvm::runtime::Map<tvm::Target, tvm::IRModule, void, void> const&, tvm::Target)#6}>(tvm::{lambda(tvm::runtime::Map<tvm::Target, tvm::IRModule, void, void> const&, tvm::Target)#6}, std::__cxx11::basic_string<char, std::char_traits<char>, std::allocator<char> >)::{lambda(tvm::runtime::TVMArgs const&, tvm::runtime::TVMRetValue*)#1}> >::Call(tvm::runtime::PackedFuncObj const*, std::__cxx11::basic_string<char, std::char_traits<char>, std::allocator<char> >, tvm::runtime::TVMRetValue)\n  1: tvm::TIRToRuntime(tvm::runtime::Map<tvm::Target, tvm::IRModule, void, void> const&, tvm::Target const&)\n  0: tvm::codegen::Build(tvm::IRModule, tvm::Target)\n  File \"/home/wendell/Desktop/tvm/src/target/codegen.cc\", line 58\nTVMError: \n---------------------------------------------------------------\nAn error occurred during the execution of TVM.\nFor more information, please see: https://tvm.apache.org/docs/errors.html\n---------------------------------------------------------------\n  Check failed: (bf != nullptr) is false: target.build.cuda is not enabled",
     "output_type": "error",
     "traceback": [
      "\u001b[0;31m---------------------------------------------------------------------------\u001b[0m",
      "\u001b[0;31mTVMError\u001b[0m                                  Traceback (most recent call last)",
      "Input \u001b[0;32mIn [19]\u001b[0m, in \u001b[0;36m<cell line: 2>\u001b[0;34m()\u001b[0m\n\u001b[1;32m      1\u001b[0m ctx \u001b[38;5;241m=\u001b[39m tvm\u001b[38;5;241m.\u001b[39mcuda(\u001b[38;5;241m0\u001b[39m)\n\u001b[0;32m----> 2\u001b[0m cuda_mod \u001b[38;5;241m=\u001b[39m \u001b[43mtvm\u001b[49m\u001b[38;5;241;43m.\u001b[39;49m\u001b[43mbuild\u001b[49m\u001b[43m(\u001b[49m\u001b[43msch\u001b[49m\u001b[38;5;241;43m.\u001b[39;49m\u001b[43mmod\u001b[49m\u001b[43m,\u001b[49m\u001b[43m \u001b[49m\u001b[43mtarget\u001b[49m\u001b[38;5;241;43m=\u001b[39;49m\u001b[38;5;124;43m\"\u001b[39;49m\u001b[38;5;124;43mcuda\u001b[39;49m\u001b[38;5;124;43m\"\u001b[39;49m\u001b[43m)\u001b[49m\n\u001b[1;32m      3\u001b[0m cuda_a \u001b[38;5;241m=\u001b[39m tvm\u001b[38;5;241m.\u001b[39mnd\u001b[38;5;241m.\u001b[39marray(np\u001b[38;5;241m.\u001b[39marange(\u001b[38;5;241m8\u001b[39m)\u001b[38;5;241m.\u001b[39mastype(\u001b[38;5;124m\"\u001b[39m\u001b[38;5;124mfloat32\u001b[39m\u001b[38;5;124m\"\u001b[39m), ctx)\n\u001b[1;32m      4\u001b[0m cuda_b \u001b[38;5;241m=\u001b[39m tvm\u001b[38;5;241m.\u001b[39mnd\u001b[38;5;241m.\u001b[39marray(np\u001b[38;5;241m.\u001b[39mzeros((\u001b[38;5;241m8\u001b[39m,))\u001b[38;5;241m.\u001b[39mastype(\u001b[38;5;124m\"\u001b[39m\u001b[38;5;124mfloat32\u001b[39m\u001b[38;5;124m\"\u001b[39m), ctx)\n",
      "File \u001b[0;32m~/Desktop/tvm/python/tvm/driver/build_module.py:284\u001b[0m, in \u001b[0;36mbuild\u001b[0;34m(inputs, args, target, target_host, runtime, name, binds)\u001b[0m\n\u001b[1;32m    280\u001b[0m     target_host \u001b[38;5;241m=\u001b[39m \u001b[38;5;124m\"\u001b[39m\u001b[38;5;124mllvm\u001b[39m\u001b[38;5;124m\"\u001b[39m \u001b[38;5;28;01mif\u001b[39;00m tvm\u001b[38;5;241m.\u001b[39mruntime\u001b[38;5;241m.\u001b[39menabled(\u001b[38;5;124m\"\u001b[39m\u001b[38;5;124mllvm\u001b[39m\u001b[38;5;124m\"\u001b[39m) \u001b[38;5;28;01melse\u001b[39;00m \u001b[38;5;124m\"\u001b[39m\u001b[38;5;124mstackvm\u001b[39m\u001b[38;5;124m\"\u001b[39m\n\u001b[1;32m    282\u001b[0m annotated_mods, target_host \u001b[38;5;241m=\u001b[39m Target\u001b[38;5;241m.\u001b[39mcanon_target_map_and_host(annotated_mods, target_host)\n\u001b[0;32m--> 284\u001b[0m rt_mod_host \u001b[38;5;241m=\u001b[39m \u001b[43m_driver_ffi\u001b[49m\u001b[38;5;241;43m.\u001b[39;49m\u001b[43mtir_to_runtime\u001b[49m\u001b[43m(\u001b[49m\u001b[43mannotated_mods\u001b[49m\u001b[43m,\u001b[49m\u001b[43m \u001b[49m\u001b[43mtarget_host\u001b[49m\u001b[43m)\u001b[49m\n\u001b[1;32m    286\u001b[0m annotated_mods, target_host \u001b[38;5;241m=\u001b[39m Target\u001b[38;5;241m.\u001b[39mcanon_target_map_and_host(annotated_mods, target_host)\n\u001b[1;32m    288\u001b[0m \u001b[38;5;28;01mif\u001b[39;00m \u001b[38;5;129;01mnot\u001b[39;00m \u001b[38;5;28misinstance\u001b[39m(target_host, Target):\n",
      "File \u001b[0;32m~/Desktop/tvm/python/tvm/_ffi/_ctypes/packed_func.py:237\u001b[0m, in \u001b[0;36mPackedFuncBase.__call__\u001b[0;34m(self, *args)\u001b[0m\n\u001b[1;32m    225\u001b[0m ret_tcode \u001b[38;5;241m=\u001b[39m ctypes\u001b[38;5;241m.\u001b[39mc_int()\n\u001b[1;32m    226\u001b[0m \u001b[38;5;28;01mif\u001b[39;00m (\n\u001b[1;32m    227\u001b[0m     _LIB\u001b[38;5;241m.\u001b[39mTVMFuncCall(\n\u001b[1;32m    228\u001b[0m         \u001b[38;5;28mself\u001b[39m\u001b[38;5;241m.\u001b[39mhandle,\n\u001b[0;32m   (...)\u001b[0m\n\u001b[1;32m    235\u001b[0m     \u001b[38;5;241m!=\u001b[39m \u001b[38;5;241m0\u001b[39m\n\u001b[1;32m    236\u001b[0m ):\n\u001b[0;32m--> 237\u001b[0m     \u001b[38;5;28;01mraise\u001b[39;00m get_last_ffi_error()\n\u001b[1;32m    238\u001b[0m _ \u001b[38;5;241m=\u001b[39m temp_args\n\u001b[1;32m    239\u001b[0m _ \u001b[38;5;241m=\u001b[39m args\n",
      "\u001b[0;31mTVMError\u001b[0m: Traceback (most recent call last):\n  3: TVMFuncCall\n  2: tvm::runtime::PackedFuncObj::Extractor<tvm::runtime::PackedFuncSubObj<tvm::runtime::TypedPackedFunc<tvm::runtime::Module (tvm::runtime::Map<tvm::Target, tvm::IRModule, void, void> const&, tvm::Target)>::AssignTypedLambda<tvm::{lambda(tvm::runtime::Map<tvm::Target, tvm::IRModule, void, void> const&, tvm::Target)#6}>(tvm::{lambda(tvm::runtime::Map<tvm::Target, tvm::IRModule, void, void> const&, tvm::Target)#6}, std::__cxx11::basic_string<char, std::char_traits<char>, std::allocator<char> >)::{lambda(tvm::runtime::TVMArgs const&, tvm::runtime::TVMRetValue*)#1}> >::Call(tvm::runtime::PackedFuncObj const*, std::__cxx11::basic_string<char, std::char_traits<char>, std::allocator<char> >, tvm::runtime::TVMRetValue)\n  1: tvm::TIRToRuntime(tvm::runtime::Map<tvm::Target, tvm::IRModule, void, void> const&, tvm::Target const&)\n  0: tvm::codegen::Build(tvm::IRModule, tvm::Target)\n  File \"/home/wendell/Desktop/tvm/src/target/codegen.cc\", line 58\nTVMError: \n---------------------------------------------------------------\nAn error occurred during the execution of TVM.\nFor more information, please see: https://tvm.apache.org/docs/errors.html\n---------------------------------------------------------------\n  Check failed: (bf != nullptr) is false: target.build.cuda is not enabled"
     ]
    }
   ],
   "source": [
    "ctx = tvm.cuda(0)\n",
    "cuda_mod = tvm.build(sch.mod, target=\"cuda\")\n",
    "cuda_a = tvm.nd.array(np.arange(8).astype(\"float32\"), ctx)\n",
    "cuda_b = tvm.nd.array(np.zeros((8,)).astype(\"float32\"), ctx)\n",
    "cuda_mod(cuda_a, cuda_b)\n",
    "print(cuda_a)\n",
    "print(cuda_b)"
   ]
  },
  {
   "cell_type": "code",
   "execution_count": null,
   "id": "d4804b4a",
   "metadata": {},
   "outputs": [],
   "source": []
  }
 ],
 "metadata": {
  "kernelspec": {
   "display_name": "Python 3 (ipykernel)",
   "language": "python",
   "name": "python3"
  },
  "language_info": {
   "codemirror_mode": {
    "name": "ipython",
    "version": 3
   },
   "file_extension": ".py",
   "mimetype": "text/x-python",
   "name": "python",
   "nbconvert_exporter": "python",
   "pygments_lexer": "ipython3",
   "version": "3.8.10"
  }
 },
 "nbformat": 4,
 "nbformat_minor": 5
}
