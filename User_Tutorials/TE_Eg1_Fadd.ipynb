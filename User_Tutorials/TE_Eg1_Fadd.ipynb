{
 "cells": [
  {
   "cell_type": "code",
   "execution_count": 1,
   "id": "e7cd082d",
   "metadata": {},
   "outputs": [],
   "source": [
    "import tvm\n",
    "import tvm.testing\n",
    "from tvm import te\n",
    "import numpy as np"
   ]
  },
  {
   "cell_type": "code",
   "execution_count": 2,
   "id": "ae83fefd",
   "metadata": {},
   "outputs": [],
   "source": [
    "tgt = tvm.target.Target(target=\"llvm\", host=\"llvm\")"
   ]
  },
  {
   "cell_type": "code",
   "execution_count": 3,
   "id": "4c2874cc",
   "metadata": {},
   "outputs": [],
   "source": [
    "n = te.var(\"n\")\n",
    "A = te.placeholder((n,), name=\"A\")\n",
    "B = te.placeholder((n,), name=\"B\")\n",
    "C = te.compute(A.shape, lambda i: A[i] + B[i], name=\"C\")"
   ]
  },
  {
   "cell_type": "code",
   "execution_count": 4,
   "id": "2815a6f2",
   "metadata": {},
   "outputs": [],
   "source": [
    "s = te.create_schedule(C.op)"
   ]
  },
  {
   "cell_type": "code",
   "execution_count": 5,
   "id": "a1854c06",
   "metadata": {},
   "outputs": [],
   "source": [
    "fadd = tvm.build(s, [A, B, C], tgt, name=\"myadd\")"
   ]
  },
  {
   "cell_type": "code",
   "execution_count": 6,
   "id": "1354d811",
   "metadata": {},
   "outputs": [],
   "source": [
    "dev = tvm.device(tgt.kind.name, 0)\n",
    "\n",
    "n = 1024\n",
    "a = tvm.nd.array(np.random.uniform(size=n).astype(A.dtype), dev)\n",
    "b = tvm.nd.array(np.random.uniform(size=n).astype(B.dtype), dev)\n",
    "c = tvm.nd.array(np.zeros(n, dtype=C.dtype), dev)\n",
    "fadd(a, b, c)\n",
    "tvm.testing.assert_allclose(c.numpy(), a.numpy() + b.numpy())"
   ]
  },
  {
   "cell_type": "code",
   "execution_count": 7,
   "id": "f28b0e73",
   "metadata": {},
   "outputs": [
    {
     "name": "stdout",
     "output_type": "stream",
     "text": [
      "Numpy running time: 0.000003\n",
      "naive: 0.000003\n"
     ]
    }
   ],
   "source": [
    "import timeit\n",
    "\n",
    "np_repeat = 100\n",
    "np_running_time = timeit.timeit(\n",
    "    setup=\"import numpy\\n\"\n",
    "    \"n = 32768\\n\"\n",
    "    'dtype = \"float32\"\\n'\n",
    "    \"a = numpy.random.rand(n, 1).astype(dtype)\\n\"\n",
    "    \"b = numpy.random.rand(n, 1).astype(dtype)\\n\",\n",
    "    stmt=\"answer = a + b\",\n",
    "    number=np_repeat,\n",
    ")\n",
    "print(\"Numpy running time: %f\" % (np_running_time / np_repeat))\n",
    "\n",
    "\n",
    "def evaluate_addition(func, target, optimization, log):\n",
    "    dev = tvm.device(target.kind.name, 0)\n",
    "    n = 32768\n",
    "    a = tvm.nd.array(np.random.uniform(size=n).astype(A.dtype), dev)\n",
    "    b = tvm.nd.array(np.random.uniform(size=n).astype(B.dtype), dev)\n",
    "    c = tvm.nd.array(np.zeros(n, dtype=C.dtype), dev)\n",
    "\n",
    "    evaluator = func.time_evaluator(func.entry_name, dev, number=10)\n",
    "    mean_time = evaluator(a, b, c).mean\n",
    "    print(\"%s: %f\" % (optimization, mean_time))\n",
    "\n",
    "    log.append((optimization, mean_time))\n",
    "\n",
    "\n",
    "log = [(\"numpy\", np_running_time / np_repeat)]\n",
    "evaluate_addition(fadd, tgt, \"naive\", log=log)"
   ]
  },
  {
   "cell_type": "code",
   "execution_count": 8,
   "id": "3bbd9b2e",
   "metadata": {},
   "outputs": [],
   "source": [
    "s[C].parallel(C.op.axis[0])"
   ]
  },
  {
   "cell_type": "code",
   "execution_count": 9,
   "id": "aed732f2",
   "metadata": {},
   "outputs": [
    {
     "name": "stdout",
     "output_type": "stream",
     "text": [
      "@main = primfn(A_1: handle, B_1: handle, C_1: handle) -> ()\n",
      "  attr = {\"from_legacy_te_schedule\": True, \"global_symbol\": \"main\", \"tir.noalias\": True}\n",
      "  buffers = {A: Buffer(A_2: Pointer(float32), float32, [(stride: int32*n: int32)], [], type=\"auto\"),\n",
      "             B: Buffer(B_2: Pointer(float32), float32, [(stride_1: int32*n)], [], type=\"auto\"),\n",
      "             C: Buffer(C_2: Pointer(float32), float32, [(stride_2: int32*n)], [], type=\"auto\")}\n",
      "  buffer_map = {A_1: A, B_1: B, C_1: C}\n",
      "  preflattened_buffer_map = {A_1: A_3: Buffer(A_2, float32, [n], [stride], type=\"auto\"), B_1: B_3: Buffer(B_2, float32, [n], [stride_1], type=\"auto\"), C_1: C_3: Buffer(C_2, float32, [n], [stride_2], type=\"auto\")} {\n",
      "  for (i: int32, 0, n) \"parallel\" {\n",
      "    C[(i*stride_2)] = (A[(i*stride)] + B[(i*stride_1)])\n",
      "  }\n",
      "}\n",
      "\n",
      "\n"
     ]
    }
   ],
   "source": [
    "print(tvm.lower(s, [A, B, C], simple_mode=True))"
   ]
  },
  {
   "cell_type": "code",
   "execution_count": 10,
   "id": "d31f4543",
   "metadata": {},
   "outputs": [
    {
     "name": "stdout",
     "output_type": "stream",
     "text": [
      "parallel: 0.000002\n"
     ]
    },
    {
     "name": "stderr",
     "output_type": "stream",
     "text": [
      "[16:27:33] /home/wendell/Desktop/tvm/src/runtime/threading_backend.cc:320: Warning: more than two frequencies detected!\n"
     ]
    }
   ],
   "source": [
    "fadd_parallel = tvm.build(s, [A, B, C], tgt, name=\"myadd_parallel\")\n",
    "fadd_parallel(a, b, c)\n",
    "\n",
    "tvm.testing.assert_allclose(c.numpy(), a.numpy() + b.numpy())\n",
    "\n",
    "evaluate_addition(fadd_parallel, tgt, \"parallel\", log=log)"
   ]
  },
  {
   "cell_type": "code",
   "execution_count": 11,
   "id": "97b34f05",
   "metadata": {},
   "outputs": [
    {
     "name": "stdout",
     "output_type": "stream",
     "text": [
      "vector: 0.000008\n",
      "@main = primfn(A_1: handle, B_1: handle, C_1: handle) -> ()\n",
      "  attr = {\"from_legacy_te_schedule\": True, \"global_symbol\": \"main\", \"tir.noalias\": True}\n",
      "  buffers = {A: Buffer(A_2: Pointer(float32), float32, [(stride: int32*n: int32)], [], type=\"auto\"),\n",
      "             B: Buffer(B_2: Pointer(float32), float32, [(stride_1: int32*n)], [], type=\"auto\"),\n",
      "             C: Buffer(C_2: Pointer(float32), float32, [(stride_2: int32*n)], [], type=\"auto\")}\n",
      "  buffer_map = {A_1: A, B_1: B, C_1: C}\n",
      "  preflattened_buffer_map = {A_1: A_3: Buffer(A_2, float32, [n], [stride], type=\"auto\"), B_1: B_3: Buffer(B_2, float32, [n], [stride_1], type=\"auto\"), C_1: C_3: Buffer(C_2, float32, [n], [stride_2], type=\"auto\")} {\n",
      "  for (i.outer: int32, 0, floordiv((n + 3), 4)) \"parallel\" {\n",
      "    for (i.inner.s: int32, 0, 4) {\n",
      "      if @tir.likely((((i.outer*4) + i.inner.s) < n), dtype=bool) {\n",
      "        let cse_var_1: int32 = ((i.outer*4) + i.inner.s)\n",
      "        C[(cse_var_1*stride_2)] = (A[(cse_var_1*stride)] + B[(cse_var_1*stride_1)])\n",
      "      }\n",
      "    }\n",
      "  }\n",
      "}\n",
      "\n",
      "\n"
     ]
    }
   ],
   "source": [
    "# Recreate the schedule, since we modified it with the parallel operation in\n",
    "# the previous example\n",
    "n = te.var(\"n\")\n",
    "A = te.placeholder((n,), name=\"A\")\n",
    "B = te.placeholder((n,), name=\"B\")\n",
    "C = te.compute(A.shape, lambda i: A[i] + B[i], name=\"C\")\n",
    "\n",
    "s = te.create_schedule(C.op)\n",
    "\n",
    "# This factor should be chosen to match the number of threads appropriate for\n",
    "# your CPU. This will vary depending on architecture, but a good rule is\n",
    "# setting this factor to equal the number of available CPU cores.\n",
    "factor = 4\n",
    "\n",
    "outer, inner = s[C].split(C.op.axis[0], factor=factor)\n",
    "s[C].parallel(outer)\n",
    "s[C].vectorize(inner)\n",
    "\n",
    "fadd_vector = tvm.build(s, [A, B, C], tgt, name=\"myadd_parallel\")\n",
    "\n",
    "evaluate_addition(fadd_vector, tgt, \"vector\", log=log)\n",
    "\n",
    "print(tvm.lower(s, [A, B, C], simple_mode=True))"
   ]
  },
  {
   "cell_type": "code",
   "execution_count": 12,
   "id": "81360f01",
   "metadata": {},
   "outputs": [
    {
     "name": "stdout",
     "output_type": "stream",
     "text": [
      "            Operator\t              Timing\t         Performance\n",
      "               numpy\t3.137379826512188e-06\t                 1.0\n",
      "               naive\t2.7782999999999997e-06\t  0.8855478627490967\n",
      "            parallel\t          1.9955e-06\t  0.6360402980656599\n",
      "              vector\t          8.1661e-06\t  2.6028407306609793\n"
     ]
    }
   ],
   "source": [
    "baseline = log[0][1]\n",
    "print(\"%s\\t%s\\t%s\" % (\"Operator\".rjust(20), \"Timing\".rjust(20), \"Performance\".rjust(20)))\n",
    "for result in log:\n",
    "    print(\n",
    "        \"%s\\t%s\\t%s\"\n",
    "        % (result[0].rjust(20), str(result[1]).rjust(20), str(result[1] / baseline).rjust(20))\n",
    "    )"
   ]
  },
  {
   "cell_type": "code",
   "execution_count": 13,
   "id": "edf8056d",
   "metadata": {},
   "outputs": [
    {
     "data": {
      "text/plain": [
       "llvm -keys=cpu -link-params=0"
      ]
     },
     "execution_count": 13,
     "metadata": {},
     "output_type": "execute_result"
    }
   ],
   "source": [
    "tgt.host"
   ]
  }
 ],
 "metadata": {
  "kernelspec": {
   "display_name": "Python 3 (ipykernel)",
   "language": "python",
   "name": "python3"
  },
  "language_info": {
   "codemirror_mode": {
    "name": "ipython",
    "version": 3
   },
   "file_extension": ".py",
   "mimetype": "text/x-python",
   "name": "python",
   "nbconvert_exporter": "python",
   "pygments_lexer": "ipython3",
   "version": "3.8.10"
  }
 },
 "nbformat": 4,
 "nbformat_minor": 5
}
