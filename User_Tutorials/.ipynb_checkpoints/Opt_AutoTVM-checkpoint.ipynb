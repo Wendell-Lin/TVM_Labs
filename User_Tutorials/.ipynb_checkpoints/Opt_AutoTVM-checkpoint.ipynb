{
 "cells": [
  {
   "cell_type": "code",
   "execution_count": 1,
   "id": "9763e39d",
   "metadata": {},
   "outputs": [],
   "source": [
    "import logging\n",
    "import sys\n",
    "\n",
    "import numpy as np\n",
    "import tvm\n",
    "from tvm import te\n",
    "import tvm.testing\n",
    "\n",
    "# the module is called `autotvm`\n",
    "from tvm import autotvm"
   ]
  },
  {
   "cell_type": "code",
   "execution_count": 2,
   "id": "3fdf2492",
   "metadata": {},
   "outputs": [],
   "source": [
    "def matmul_basic(N, L, M, dtype):\n",
    "\n",
    "    A = te.placeholder((N, L), name=\"A\", dtype=dtype)\n",
    "    B = te.placeholder((L, M), name=\"B\", dtype=dtype)\n",
    "\n",
    "    k = te.reduce_axis((0, L), name=\"k\")\n",
    "    C = te.compute((N, M), lambda i, j: te.sum(A[i, k] * B[k, j], axis=k), name=\"C\")\n",
    "    s = te.create_schedule(C.op)\n",
    "\n",
    "    # schedule\n",
    "    y, x = s[C].op.axis\n",
    "    k = s[C].op.reduce_axis[0]\n",
    "\n",
    "    yo, yi = s[C].split(y, 8)\n",
    "    xo, xi = s[C].split(x, 8)\n",
    "\n",
    "    s[C].reorder(yo, xo, k, yi, xi)\n",
    "\n",
    "    return s, [A, B, C]"
   ]
  },
  {
   "cell_type": "code",
   "execution_count": 3,
   "id": "493e5bbf",
   "metadata": {},
   "outputs": [],
   "source": [
    "# Matmul V1: List candidate values\n",
    "@autotvm.template(\"tutorial/matmul_v1\")  # 1. use a decorator\n",
    "def matmul_v1(N, L, M, dtype):\n",
    "    A = te.placeholder((N, L), name=\"A\", dtype=dtype)\n",
    "    B = te.placeholder((L, M), name=\"B\", dtype=dtype)\n",
    "\n",
    "    k = te.reduce_axis((0, L), name=\"k\")\n",
    "    C = te.compute((N, M), lambda i, j: te.sum(A[i, k] * B[k, j], axis=k), name=\"C\")\n",
    "    s = te.create_schedule(C.op)\n",
    "\n",
    "    # schedule\n",
    "    y, x = s[C].op.axis\n",
    "    k = s[C].op.reduce_axis[0]\n",
    "\n",
    "    # 2. get the config object\n",
    "    cfg = autotvm.get_config()\n",
    "\n",
    "    # 3. define search space\n",
    "    cfg.define_knob(\"tile_y\", [1, 2, 4, 8, 16])\n",
    "    cfg.define_knob(\"tile_x\", [1, 2, 4, 8, 16])\n",
    "\n",
    "    # 4. schedule according to config\n",
    "    yo, yi = s[C].split(y, cfg[\"tile_y\"].val)\n",
    "    xo, xi = s[C].split(x, cfg[\"tile_x\"].val)\n",
    "\n",
    "    s[C].reorder(yo, xo, k, yi, xi)\n",
    "\n",
    "    return s, [A, B, C]"
   ]
  },
  {
   "cell_type": "code",
   "execution_count": 4,
   "id": "4e5d9d4c",
   "metadata": {},
   "outputs": [],
   "source": [
    "@autotvm.template(\"tutorial/matmul\")\n",
    "def matmul(N, L, M, dtype):\n",
    "    A = te.placeholder((N, L), name=\"A\", dtype=dtype)\n",
    "    B = te.placeholder((L, M), name=\"B\", dtype=dtype)\n",
    "\n",
    "    k = te.reduce_axis((0, L), name=\"k\")\n",
    "    C = te.compute((N, M), lambda i, j: te.sum(A[i, k] * B[k, j], axis=k), name=\"C\")\n",
    "    s = te.create_schedule(C.op)\n",
    "\n",
    "    # schedule\n",
    "    y, x = s[C].op.axis\n",
    "    k = s[C].op.reduce_axis[0]\n",
    "\n",
    "    ##### define space begin #####\n",
    "    cfg = autotvm.get_config()\n",
    "    cfg.define_split(\"tile_y\", y, num_outputs=2)\n",
    "    cfg.define_split(\"tile_x\", x, num_outputs=2)\n",
    "    ##### define space end #####\n",
    "\n",
    "    # schedule according to config\n",
    "    yo, yi = cfg[\"tile_y\"].apply(s, C, y)\n",
    "    xo, xi = cfg[\"tile_x\"].apply(s, C, x)\n",
    "\n",
    "    s[C].reorder(yo, xo, k, yi, xi)\n",
    "\n",
    "    return s, [A, B, C]"
   ]
  },
  {
   "cell_type": "code",
   "execution_count": 6,
   "id": "9cbb9848",
   "metadata": {},
   "outputs": [
    {
     "name": "stdout",
     "output_type": "stream",
     "text": [
      "ConfigSpace (len=100, space_map=\n",
      "   0 tile_y: Split(policy=factors, product=512, num_outputs=2) len=10\n",
      "   1 tile_x: Split(policy=factors, product=512, num_outputs=2) len=10\n",
      ")\n"
     ]
    }
   ],
   "source": [
    "N, L, M = 512, 512, 512\n",
    "task = autotvm.task.create(\"tutorial/matmul\", args=(N, L, M, \"float32\"), target=\"llvm\")\n",
    "print(task.config_space)"
   ]
  },
  {
   "cell_type": "code",
   "execution_count": 7,
   "id": "79dd0fda",
   "metadata": {},
   "outputs": [],
   "source": [
    "# logging config (for printing tuning log to the screen)\n",
    "logging.getLogger(\"autotvm\").setLevel(logging.DEBUG)\n",
    "logging.getLogger(\"autotvm\").addHandler(logging.StreamHandler(sys.stdout))"
   ]
  },
  {
   "cell_type": "code",
   "execution_count": 8,
   "id": "072e80a0",
   "metadata": {},
   "outputs": [
    {
     "name": "stdout",
     "output_type": "stream",
     "text": [
      "waiting for device...\n",
      "device available\n",
      "Get devices for measurement successfully!\n",
      "No: 1\tGFLOPS: 43.56/43.56\tresult: MeasureResult(costs=(0.0061617288,), error_no=MeasureErrorNo.NO_ERROR, all_cost=0.2046210765838623, timestamp=1658199544.5570998)\t[('tile_y', [-1, 1]), ('tile_x', [-1, 128])],None,70\n",
      "No: 2\tGFLOPS: 7.24/43.56\tresult: MeasureResult(costs=(0.0370627438,), error_no=MeasureErrorNo.NO_ERROR, all_cost=0.6762516498565674, timestamp=1658199545.3074584)\t[('tile_y', [-1, 256]), ('tile_x', [-1, 8])],None,38\n",
      "No: 3\tGFLOPS: 35.04/43.56\tresult: MeasureResult(costs=(0.0076614126000000005,), error_no=MeasureErrorNo.NO_ERROR, all_cost=0.2152712345123291, timestamp=1658199545.5946825)\t[('tile_y', [-1, 64]), ('tile_x', [-1, 256])],None,86\n",
      "No: 4\tGFLOPS: 2.51/43.56\tresult: MeasureResult(costs=(0.10684140580000001,), error_no=MeasureErrorNo.NO_ERROR, all_cost=1.8439440727233887, timestamp=1658199547.5213277)\t[('tile_y', [-1, 2]), ('tile_x', [-1, 1])],None,1\n",
      "No: 5\tGFLOPS: 36.82/43.56\tresult: MeasureResult(costs=(0.0072905642,), error_no=MeasureErrorNo.NO_ERROR, all_cost=0.3231241703033447, timestamp=1658199547.7948823)\t[('tile_y', [-1, 64]), ('tile_x', [-1, 64])],None,66\n",
      "No: 6\tGFLOPS: 35.44/43.56\tresult: MeasureResult(costs=(0.007574550000000001,), error_no=MeasureErrorNo.NO_ERROR, all_cost=0.2498917579650879, timestamp=1658199548.0744724)\t[('tile_y', [-1, 8]), ('tile_x', [-1, 128])],None,73\n",
      "No: 7\tGFLOPS: 17.63/43.56\tresult: MeasureResult(costs=(0.0152273784,), error_no=MeasureErrorNo.NO_ERROR, all_cost=0.38472533226013184, timestamp=1658199548.5145178)\t[('tile_y', [-1, 512]), ('tile_x', [-1, 128])],None,79\n",
      "No: 8\tGFLOPS: 36.91/43.56\tresult: MeasureResult(costs=(0.007273451,), error_no=MeasureErrorNo.NO_ERROR, all_cost=0.25734376907348633, timestamp=1658199548.7964997)\t[('tile_y', [-1, 32]), ('tile_x', [-1, 64])],None,65\n",
      "No: 9\tGFLOPS: 1.01/43.56\tresult: MeasureResult(costs=(0.266450283,), error_no=MeasureErrorNo.NO_ERROR, all_cost=4.344061613082886, timestamp=1658199553.2145848)\t[('tile_y', [-1, 256]), ('tile_x', [-1, 1])],None,8\n",
      "No: 10\tGFLOPS: 30.52/43.56\tresult: MeasureResult(costs=(0.0087949082,), error_no=MeasureErrorNo.NO_ERROR, all_cost=0.2774085998535156, timestamp=1658199553.56648)\t[('tile_y', [-1, 128]), ('tile_x', [-1, 32])],None,57\n"
     ]
    }
   ],
   "source": [
    "measure_option = autotvm.measure_option(builder=\"local\", runner=autotvm.LocalRunner(number=5))\n",
    "\n",
    "# Begin tuning with RandomTuner, log records to file `matmul.log`\n",
    "# You can use alternatives like XGBTuner.\n",
    "tuner = autotvm.tuner.RandomTuner(task)\n",
    "tuner.tune(\n",
    "    n_trial=10,\n",
    "    measure_option=measure_option,\n",
    "    callbacks=[autotvm.callback.log_to_file(\"matmul.log\")],\n",
    ")"
   ]
  },
  {
   "cell_type": "code",
   "execution_count": 10,
   "id": "183b2ed3",
   "metadata": {},
   "outputs": [
    {
     "ename": "NameError",
     "evalue": "name 'A' is not defined",
     "output_type": "error",
     "traceback": [
      "\u001b[0;31m---------------------------------------------------------------------------\u001b[0m",
      "\u001b[0;31mNameError\u001b[0m                                 Traceback (most recent call last)",
      "Input \u001b[0;32mIn [10]\u001b[0m, in \u001b[0;36m<cell line: 16>\u001b[0;34m()\u001b[0m\n\u001b[1;32m     13\u001b[0m     log\u001b[38;5;241m.\u001b[39mappend((opt, mean_time))\n\u001b[1;32m     15\u001b[0m log \u001b[38;5;241m=\u001b[39m []\n\u001b[0;32m---> 16\u001b[0m eval_op(s, [\u001b[43mA\u001b[49m, B, C], target,\u001b[38;5;124m'\u001b[39m\u001b[38;5;124mmatmul\u001b[39m\u001b[38;5;124m'\u001b[39m, \u001b[38;5;124m'\u001b[39m\u001b[38;5;124mAutoTVM\u001b[39m\u001b[38;5;124m'\u001b[39m, log)\n",
      "\u001b[0;31mNameError\u001b[0m: name 'A' is not defined"
     ]
    }
   ],
   "source": [
    "def eval_op(s, vars, tgt, name, opt, log) -> None:\n",
    "    func = tvm.build(s, vars, target=tgt, name=name)\n",
    "    assert func\n",
    "    \n",
    "    dev = tvm.device(tgt.kind.name, 0)\n",
    "    c = tvm.nd.array(np.zeros((M, N), dtype), dev)\n",
    "    func(a, b, c)\n",
    "    tvm.testing.assert_allclose(c.numpy(), answer, rtol=1e-5)\n",
    "    \n",
    "    evalor = func.time_evaluator(func.entry_name, dev, number=1)\n",
    "    mean_time = evalor(a, b, c).mean\n",
    "    print('%s: %f' % (opt, mean_time))\n",
    "    log.append((opt, mean_time))\n",
    "    \n",
    "log = []"
   ]
  },
  {
   "cell_type": "code",
   "execution_count": 11,
   "id": "04ea7657",
   "metadata": {},
   "outputs": [
    {
     "name": "stdout",
     "output_type": "stream",
     "text": [
      "Finish loading 10 records\n"
     ]
    }
   ],
   "source": [
    "# apply history best from log file\n",
    "with autotvm.apply_history_best(\"matmul.log\"):\n",
    "    with tvm.target.Target(\"llvm\"):\n",
    "        s, arg_bufs = matmul(N, L, M, \"float32\")\n",
    "        func = tvm.build(s, arg_bufs)\n",
    "        eval_op(s, [A, B, C], target,'matmul', 'AutoTVM', log)\n",
    "\n",
    "# check correctness\n",
    "a_np = np.random.uniform(size=(N, L)).astype(np.float32)\n",
    "b_np = np.random.uniform(size=(L, M)).astype(np.float32)\n",
    "c_np = a_np.dot(b_np)\n",
    "\n",
    "c_tvm = tvm.nd.empty(c_np.shape)\n",
    "func(tvm.nd.array(a_np), tvm.nd.array(b_np), c_tvm)\n",
    "\n",
    "tvm.testing.assert_allclose(c_np, c_tvm.numpy(), rtol=1e-4)"
   ]
  },
  {
   "cell_type": "code",
   "execution_count": null,
   "id": "f2bcb98e",
   "metadata": {},
   "outputs": [],
   "source": []
  }
 ],
 "metadata": {
  "kernelspec": {
   "display_name": "Python 3 (ipykernel)",
   "language": "python",
   "name": "python3"
  },
  "language_info": {
   "codemirror_mode": {
    "name": "ipython",
    "version": 3
   },
   "file_extension": ".py",
   "mimetype": "text/x-python",
   "name": "python",
   "nbconvert_exporter": "python",
   "pygments_lexer": "ipython3",
   "version": "3.8.10"
  }
 },
 "nbformat": 4,
 "nbformat_minor": 5
}
