{
 "cells": [
  {
   "cell_type": "code",
   "execution_count": 1,
   "id": "7d2d294d",
   "metadata": {},
   "outputs": [],
   "source": [
    "import torch\n",
    "import torch.nn as nn\n",
    "import torch.nn.functional as F\n",
    "import dgl\n",
    "import networkx as nx\n",
    "from dgl.nn.pytorch import GraphConv\n",
    "\n",
    "\n",
    "class GCN(nn.Module):\n",
    "    def __init__(self, g, n_infeat, n_hidden, n_classes, n_layers, activation):\n",
    "        super(GCN, self).__init__()\n",
    "        self.g = g\n",
    "        self.layers = nn.ModuleList()\n",
    "        self.layers.append(GraphConv(n_infeat, n_hidden, activation=activation))\n",
    "        for i in range(n_layers - 1):\n",
    "            self.layers.append(GraphConv(n_hidden, n_hidden, activation=activation))\n",
    "        self.layers.append(GraphConv(n_hidden, n_classes))\n",
    "\n",
    "    def forward(self, features):\n",
    "        h = features\n",
    "        for i, layer in enumerate(self.layers):\n",
    "            # handle api changes for differnt DGL version\n",
    "            if dgl.__version__ > \"0.3\":\n",
    "                h = layer(self.g, h)\n",
    "            else:\n",
    "                h = layer(h, self.g)\n",
    "        return h"
   ]
  },
  {
   "cell_type": "code",
   "execution_count": 5,
   "id": "c5d5937e",
   "metadata": {},
   "outputs": [],
   "source": [
    "from dgl.data import load_data\n",
    "from collections import namedtuple\n",
    "\n",
    "\n",
    "def load_dataset(dataset=\"cora\"):\n",
    "    args = namedtuple(\"args\", [\"dataset\"])\n",
    "    data = load_data(args(dataset))\n",
    "\n",
    "    # Remove self-loops to avoid duplicate passing of a node's feature to itself\n",
    "#     g = data.graph\n",
    "#     g.remove_edges_from(nx.selfloop_edges(g))\n",
    "#     g.add_edges_from(zip(g.nodes, g.nodes))\n",
    "    g = None\n",
    "\n",
    "    return g, data\n",
    "\n",
    "\n",
    "def evaluate(data, logits):\n",
    "    test_mask = data.test_mask  # the test set which isn't included in the training phase\n",
    "\n",
    "    pred = logits.argmax(axis=1)\n",
    "    acc = ((pred == data.labels) * test_mask).sum() / test_mask.sum()\n",
    "\n",
    "    return acc"
   ]
  },
  {
   "cell_type": "code",
   "execution_count": 6,
   "id": "718a48cd",
   "metadata": {},
   "outputs": [
    {
     "name": "stdout",
     "output_type": "stream",
     "text": [
      "  NumNodes: 2708\n",
      "  NumEdges: 10556\n",
      "  NumFeats: 1433\n",
      "  NumClasses: 7\n",
      "  NumTrainingSamples: 140\n",
      "  NumValidationSamples: 500\n",
      "  NumTestSamples: 1000\n",
      "Done loading data from cached files.\n"
     ]
    },
    {
     "ename": "NameError",
     "evalue": "name 'g' is not defined",
     "output_type": "error",
     "traceback": [
      "\u001b[0;31m---------------------------------------------------------------------------\u001b[0m",
      "\u001b[0;31mNameError\u001b[0m                                 Traceback (most recent call last)",
      "Input \u001b[0;32mIn [6]\u001b[0m, in \u001b[0;36m<cell line: 2>\u001b[0;34m()\u001b[0m\n\u001b[1;32m      1\u001b[0m dataset \u001b[38;5;241m=\u001b[39m \u001b[38;5;124m\"\u001b[39m\u001b[38;5;124mcora\u001b[39m\u001b[38;5;124m\"\u001b[39m\n\u001b[0;32m----> 2\u001b[0m g, data \u001b[38;5;241m=\u001b[39m \u001b[43mload_dataset\u001b[49m\u001b[43m(\u001b[49m\u001b[43mdataset\u001b[49m\u001b[43m)\u001b[49m\n\u001b[1;32m      4\u001b[0m num_layers \u001b[38;5;241m=\u001b[39m \u001b[38;5;241m1\u001b[39m\n\u001b[1;32m      5\u001b[0m num_hidden \u001b[38;5;241m=\u001b[39m \u001b[38;5;241m16\u001b[39m\n",
      "Input \u001b[0;32mIn [5]\u001b[0m, in \u001b[0;36mload_dataset\u001b[0;34m(dataset)\u001b[0m\n\u001b[1;32m      7\u001b[0m     data \u001b[38;5;241m=\u001b[39m load_data(args(dataset))\n\u001b[1;32m      9\u001b[0m     \u001b[38;5;66;03m# Remove self-loops to avoid duplicate passing of a node's feature to itself\u001b[39;00m\n\u001b[1;32m     10\u001b[0m \u001b[38;5;66;03m#     g = data.graph\u001b[39;00m\n\u001b[1;32m     11\u001b[0m \u001b[38;5;66;03m#     g.remove_edges_from(nx.selfloop_edges(g))\u001b[39;00m\n\u001b[1;32m     12\u001b[0m \u001b[38;5;66;03m#     g.add_edges_from(zip(g.nodes, g.nodes))\u001b[39;00m\n\u001b[0;32m---> 14\u001b[0m     \u001b[38;5;28;01mreturn\u001b[39;00m \u001b[43mg\u001b[49m, data\n",
      "\u001b[0;31mNameError\u001b[0m: name 'g' is not defined"
     ]
    }
   ],
   "source": [
    "dataset = \"cora\"\n",
    "g, data = load_dataset(dataset)\n",
    "\n",
    "num_layers = 1\n",
    "num_hidden = 16\n",
    "infeat_dim = data.features.shape[1]\n",
    "num_classes = data.num_labels"
   ]
  },
  {
   "cell_type": "code",
   "execution_count": 4,
   "id": "8e8bc001",
   "metadata": {},
   "outputs": [
    {
     "ename": "NameError",
     "evalue": "name 'data' is not defined",
     "output_type": "error",
     "traceback": [
      "\u001b[0;31m---------------------------------------------------------------------------\u001b[0m",
      "\u001b[0;31mNameError\u001b[0m                                 Traceback (most recent call last)",
      "Input \u001b[0;32mIn [4]\u001b[0m, in \u001b[0;36m<cell line: 1>\u001b[0;34m()\u001b[0m\n\u001b[0;32m----> 1\u001b[0m \u001b[38;5;28mdir\u001b[39m(\u001b[43mdata\u001b[49m)\n",
      "\u001b[0;31mNameError\u001b[0m: name 'data' is not defined"
     ]
    }
   ],
   "source": [
    "dir(data)"
   ]
  }
 ],
 "metadata": {
  "kernelspec": {
   "display_name": "Python 3 (ipykernel)",
   "language": "python",
   "name": "python3"
  },
  "language_info": {
   "codemirror_mode": {
    "name": "ipython",
    "version": 3
   },
   "file_extension": ".py",
   "mimetype": "text/x-python",
   "name": "python",
   "nbconvert_exporter": "python",
   "pygments_lexer": "ipython3",
   "version": "3.8.10"
  }
 },
 "nbformat": 4,
 "nbformat_minor": 5
}
