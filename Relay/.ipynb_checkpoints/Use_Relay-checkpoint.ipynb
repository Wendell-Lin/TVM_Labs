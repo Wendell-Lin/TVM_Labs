{
 "cells": [
  {
   "cell_type": "code",
   "execution_count": 1,
   "id": "a86121b8",
   "metadata": {},
   "outputs": [],
   "source": [
    "import tvm\n",
    "from tvm import te\n",
    "import numpy as np\n",
    "from tvm.contrib import graph_executor as runtime\n",
    "from tvm import relay\n",
    "from tvm.relay import testing\n",
    "import tvm.testing"
   ]
  },
  {
   "cell_type": "code",
   "execution_count": 2,
   "id": "f53473d2",
   "metadata": {},
   "outputs": [],
   "source": [
    "out_channels = 16\n",
    "batch_size = 1\n",
    "\n",
    "data = relay.var(\"data\", relay.TensorType((batch_size, 3, 224, 224), \"float32\"))\n",
    "weight = relay.var(\"weight\")\n",
    "bn_gamma = relay.var(\"bn_gamma\")\n",
    "bn_beta = relay.var(\"bn_beta\")\n",
    "bn_mmean = relay.var(\"bn_mean\")\n",
    "bn_mvar = relay.var(\"bn_var\")\n",
    "\n",
    "simple_net = relay.nn.conv2d(\n",
    "    data=data, weight=weight, kernel_size=(3, 3), channels=out_channels, padding=(1, 1)\n",
    ")\n",
    "simple_net = relay.nn.batch_norm(simple_net, bn_gamma, bn_beta, bn_mmean, bn_mvar)[0]\n",
    "simple_net = relay.nn.relu(simple_net)\n",
    "simple_net = relay.Function(relay.analysis.free_vars(simple_net), simple_net)\n",
    "\n",
    "data_shape = (batch_size, 3, 224, 224)\n",
    "net, params = testing.create_workload(simple_net)"
   ]
  },
  {
   "cell_type": "code",
   "execution_count": 10,
   "id": "86d87b9b",
   "metadata": {},
   "outputs": [
    {
     "name": "stderr",
     "output_type": "stream",
     "text": [
      "DEBUG:autotvm:Finish loading 35 records\n",
      "INFO:te_compiler:Using injective.cpu for add based on highest priority (10)\n",
      "INFO:te_compiler:Using injective.cpu for sqrt based on highest priority (10)\n",
      "INFO:te_compiler:Using injective.cpu for divide based on highest priority (10)\n",
      "INFO:te_compiler:Using injective.cpu for multiply based on highest priority (10)\n",
      "INFO:te_compiler:Using injective.cpu for expand_dims based on highest priority (10)\n",
      "INFO:te_compiler:Using injective.cpu for negative based on highest priority (10)\n",
      "INFO:te_compiler:Using injective.cpu for multiply based on highest priority (10)\n",
      "INFO:te_compiler:Using injective.cpu for add based on highest priority (10)\n",
      "INFO:te_compiler:Using injective.cpu for expand_dims based on highest priority (10)\n",
      "INFO:te_compiler:Using conv2d_nchw.x86 for nn.conv2d based on highest priority (10)\n",
      "INFO:te_compiler:Using injective.cpu for multiply based on highest priority (10)\n",
      "INFO:te_compiler:Using injective.cpu for add based on highest priority (10)\n",
      "INFO:te_compiler:Using injective.cpu for nn.relu based on highest priority (10)\n"
     ]
    }
   ],
   "source": [
    "import logging\n",
    "\n",
    "logging.basicConfig(level=logging.DEBUG)  # to dump TVM IR after fusion\n",
    "\n",
    "target = \"llvm\"\n",
    "lib = relay.build_module.build(net, target, params=params)\n",
    "\n",
    "dev = tvm.device(target, 0)\n",
    "data = np.random.uniform(-1, 1, size=data_shape).astype(\"float32\")\n",
    "module = runtime.GraphModule(lib[\"default\"](dev))\n",
    "module.set_input(\"data\", data)\n",
    "module.run()\n",
    "out_shape = (batch_size, out_channels, 224, 224)\n",
    "out = module.get_output(0, tvm.nd.empty(out_shape))\n",
    "out_llvm = out.numpy()"
   ]
  },
  {
   "cell_type": "code",
   "execution_count": 9,
   "id": "ef90ff39",
   "metadata": {},
   "outputs": [
    {
     "data": {
      "text/plain": [
       "array([[[[0.        , 0.1376777 , 0.6680558 , ..., 0.        ,\n",
       "          0.01324231, 0.        ],\n",
       "         [0.17444447, 0.        , 0.        , ..., 0.        ,\n",
       "          0.        , 0.07642334],\n",
       "         [0.        , 0.        , 0.36327475, ..., 0.42015466,\n",
       "          0.34397477, 0.2568761 ],\n",
       "         ...,\n",
       "         [0.39279926, 0.        , 0.44549635, ..., 0.        ,\n",
       "          0.        , 0.        ],\n",
       "         [0.13364975, 0.5340484 , 0.        , ..., 0.40979537,\n",
       "          0.        , 0.        ],\n",
       "         [0.08624469, 0.2057824 , 0.        , ..., 0.        ,\n",
       "          0.1536131 , 0.194868  ]],\n",
       "\n",
       "        [[0.        , 0.        , 0.        , ..., 0.        ,\n",
       "          0.26647976, 0.        ],\n",
       "         [0.        , 0.07988246, 0.21923622, ..., 0.26070654,\n",
       "          0.05948642, 0.02425401],\n",
       "         [0.        , 0.        , 0.3036386 , ..., 0.        ,\n",
       "          0.10459031, 0.        ],\n",
       "         ...,\n",
       "         [0.0955115 , 0.        , 0.3549588 , ..., 0.        ,\n",
       "          0.5713969 , 0.        ],\n",
       "         [0.        , 0.        , 0.25825503, ..., 0.        ,\n",
       "          0.5995394 , 0.0138249 ],\n",
       "         [0.08871896, 0.28422216, 0.17418692, ..., 0.12509571,\n",
       "          0.        , 0.        ]],\n",
       "\n",
       "        [[0.22517136, 0.        , 0.        , ..., 0.        ,\n",
       "          0.38551357, 0.11185365],\n",
       "         [0.2864314 , 0.21042997, 0.        , ..., 0.0991667 ,\n",
       "          0.        , 0.06060727],\n",
       "         [0.13629963, 0.5216985 , 0.        , ..., 0.04095175,\n",
       "          0.33677942, 0.13803965],\n",
       "         ...,\n",
       "         [0.        , 0.        , 0.        , ..., 0.        ,\n",
       "          0.        , 0.14058767],\n",
       "         [0.44593024, 0.        , 0.        , ..., 0.        ,\n",
       "          0.        , 0.        ],\n",
       "         [0.        , 0.11599296, 0.        , ..., 0.        ,\n",
       "          0.        , 0.05110179]],\n",
       "\n",
       "        ...,\n",
       "\n",
       "        [[0.        , 0.42807394, 0.32512513, ..., 0.        ,\n",
       "          0.        , 0.06149031],\n",
       "         [0.15211259, 0.0344656 , 0.36705622, ..., 0.        ,\n",
       "          0.27930018, 0.        ],\n",
       "         [0.10952245, 0.        , 0.0860543 , ..., 0.        ,\n",
       "          0.59024554, 0.03893085],\n",
       "         ...,\n",
       "         [0.        , 0.        , 0.60460246, ..., 0.04628265,\n",
       "          0.49363962, 0.        ],\n",
       "         [0.12781146, 0.22418419, 0.        , ..., 0.5624127 ,\n",
       "          0.        , 0.        ],\n",
       "         [0.02955112, 0.08551828, 0.        , ..., 0.        ,\n",
       "          0.        , 0.4056154 ]],\n",
       "\n",
       "        [[0.        , 0.12496604, 0.29983166, ..., 0.25662616,\n",
       "          0.        , 0.        ],\n",
       "         [0.        , 0.04771288, 0.76514035, ..., 0.2474883 ,\n",
       "          0.        , 0.        ],\n",
       "         [0.        , 0.        , 0.06023139, ..., 0.        ,\n",
       "          0.10396527, 0.        ],\n",
       "         ...,\n",
       "         [0.5023424 , 0.        , 0.04320119, ..., 0.        ,\n",
       "          0.14363554, 0.        ],\n",
       "         [0.        , 0.25134385, 0.        , ..., 0.53425276,\n",
       "          0.        , 0.22965734],\n",
       "         [0.18960375, 0.02175307, 0.08799327, ..., 0.2402965 ,\n",
       "          0.        , 0.03210646]],\n",
       "\n",
       "        [[0.22393478, 0.2434163 , 0.        , ..., 0.5395597 ,\n",
       "          0.        , 0.        ],\n",
       "         [0.2021374 , 0.02897014, 0.        , ..., 1.0442067 ,\n",
       "          0.17176269, 0.        ],\n",
       "         [0.2142704 , 0.14181338, 0.        , ..., 0.04364566,\n",
       "          0.        , 0.10029071],\n",
       "         ...,\n",
       "         [0.        , 0.        , 0.16125035, ..., 0.        ,\n",
       "          0.08808236, 0.        ],\n",
       "         [0.        , 0.39508554, 0.        , ..., 0.        ,\n",
       "          0.        , 0.        ],\n",
       "         [0.        , 0.        , 0.06346431, ..., 0.29253986,\n",
       "          0.        , 0.        ]]]], dtype=float32)"
      ]
     },
     "execution_count": 9,
     "metadata": {},
     "output_type": "execute_result"
    }
   ],
   "source": [
    "out_llvm"
   ]
  }
 ],
 "metadata": {
  "kernelspec": {
   "display_name": "Python 3 (ipykernel)",
   "language": "python",
   "name": "python3"
  },
  "language_info": {
   "codemirror_mode": {
    "name": "ipython",
    "version": 3
   },
   "file_extension": ".py",
   "mimetype": "text/x-python",
   "name": "python",
   "nbconvert_exporter": "python",
   "pygments_lexer": "ipython3",
   "version": "3.8.10"
  }
 },
 "nbformat": 4,
 "nbformat_minor": 5
}
