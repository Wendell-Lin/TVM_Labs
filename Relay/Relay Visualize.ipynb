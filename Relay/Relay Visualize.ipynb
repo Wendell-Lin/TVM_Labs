{
 "cells": [
  {
   "cell_type": "code",
   "execution_count": 8,
   "id": "e02a2a21",
   "metadata": {},
   "outputs": [
    {
     "name": "stderr",
     "output_type": "stream",
     "text": [
      "DEBUG:graphviz._tools:deprecate positional args: graphviz.backend.piping.pipe(['renderer', 'formatter', 'neato_no_op', 'quiet'])\n",
      "DEBUG:graphviz._tools:deprecate positional args: graphviz.backend.rendering.render(['renderer', 'formatter', 'neato_no_op', 'quiet'])\n",
      "DEBUG:graphviz._tools:deprecate positional args: graphviz.backend.unflattening.unflatten(['stagger', 'fanout', 'chain', 'encoding'])\n",
      "DEBUG:graphviz._tools:deprecate positional args: graphviz.backend.viewing.view(['quiet'])\n",
      "DEBUG:graphviz._tools:deprecate positional args: graphviz.quoting.quote(['is_html_string', 'is_valid_id', 'dot_keywords', 'endswith_odd_number_of_backslashes', 'escape_unescaped_quotes'])\n",
      "DEBUG:graphviz._tools:deprecate positional args: graphviz.quoting.a_list(['kwargs', 'attributes'])\n",
      "DEBUG:graphviz._tools:deprecate positional args: graphviz.quoting.attr_list(['kwargs', 'attributes'])\n",
      "DEBUG:graphviz._tools:deprecate positional args: graphviz.dot.Dot.clear(['keep_attrs'])\n",
      "DEBUG:graphviz._tools:deprecate positional args: graphviz.dot.Dot.__iter__(['subgraph'])\n",
      "DEBUG:graphviz._tools:deprecate positional args: graphviz.dot.Dot.node(['_attributes'])\n",
      "DEBUG:graphviz._tools:deprecate positional args: graphviz.dot.Dot.edge(['_attributes'])\n",
      "DEBUG:graphviz._tools:deprecate positional args: graphviz.dot.Dot.attr(['_attributes'])\n",
      "DEBUG:graphviz._tools:deprecate positional args: graphviz.dot.Dot.subgraph(['name', 'comment', 'graph_attr', 'node_attr', 'edge_attr', 'body'])\n",
      "DEBUG:graphviz._tools:deprecate positional args: graphviz.piping.Pipe._pipe_legacy(['renderer', 'formatter', 'neato_no_op', 'quiet'])\n",
      "DEBUG:graphviz._tools:deprecate positional args: graphviz.saving.Save.save(['directory'])\n",
      "DEBUG:graphviz._tools:deprecate positional args: graphviz.rendering.Render.render(['directory', 'view', 'cleanup', 'format', 'renderer', 'formatter', 'neato_no_op', 'quiet', 'quiet_view'])\n",
      "DEBUG:graphviz._tools:deprecate positional args: graphviz.rendering.Render.view(['directory', 'cleanup', 'quiet', 'quiet_view'])\n",
      "DEBUG:graphviz._tools:deprecate positional args: graphviz.unflattening.Unflatten.unflatten(['stagger', 'fanout', 'chain'])\n",
      "DEBUG:graphviz._tools:deprecate positional args: graphviz.graphs.BaseGraph.__init__(['comment', 'filename', 'directory', 'format', 'engine', 'encoding', 'graph_attr', 'node_attr', 'edge_attr', 'body', 'strict'])\n",
      "DEBUG:graphviz._tools:deprecate positional args: graphviz.sources.Source.from_file(['directory', 'format', 'engine', 'encoding', 'renderer', 'formatter'])\n",
      "DEBUG:graphviz._tools:deprecate positional args: graphviz.sources.Source.__init__(['filename', 'directory', 'format', 'engine', 'encoding'])\n",
      "DEBUG:graphviz._tools:deprecate positional args: graphviz.sources.Source.save(['directory'])\n"
     ]
    }
   ],
   "source": [
    "from typing import Dict, Union, Tuple, List\n",
    "import tvm\n",
    "from tvm.contrib import relay_viz\n",
    "from tvm.contrib.relay_viz.interface import VizEdge, VizNode, VizParser\n",
    "from tvm.contrib.relay_viz.terminal import TermGraph, TermPlotter, TermVizParser"
   ]
  },
  {
   "cell_type": "code",
   "execution_count": 9,
   "id": "fe51b1ce",
   "metadata": {},
   "outputs": [],
   "source": [
    "data = relay.var(\"data\")\n",
    "bias = relay.var(\"bias\")\n",
    "add_op = relay.add(data, bias)\n",
    "add_func = relay.Function([data, bias], add_op)\n",
    "add_gvar = relay.GlobalVar(\"AddFunc\")\n",
    "\n",
    "input0 = relay.var(\"input0\")\n",
    "input1 = relay.var(\"input1\")\n",
    "input2 = relay.var(\"input2\")\n",
    "add_01 = relay.Call(add_gvar, [input0, input1])\n",
    "add_012 = relay.Call(add_gvar, [input2, add_01])\n",
    "main_func = relay.Function([input0, input1, input2], add_012)\n",
    "main_gvar = relay.GlobalVar(\"main\")\n",
    "\n",
    "mod = tvm.IRModule({main_gvar: main_func, add_gvar: add_func})"
   ]
  },
  {
   "cell_type": "code",
   "execution_count": 10,
   "id": "d318a355",
   "metadata": {},
   "outputs": [
    {
     "name": "stdout",
     "output_type": "stream",
     "text": [
      "@main([Var(input0), Var(input1), Var(input2)])\n",
      "`--Call \n",
      "   |--GlobalVar AddFunc\n",
      "   |--Var(Input) name_hint: input2\n",
      "   `--Call \n",
      "      |--GlobalVar AddFunc\n",
      "      |--Var(Input) name_hint: input0\n",
      "      `--Var(Input) name_hint: input1\n",
      "@AddFunc([Var(data), Var(bias)])\n",
      "`--Call \n",
      "   |--add \n",
      "   |--Var(Input) name_hint: data\n",
      "   `--Var(Input) name_hint: bias\n"
     ]
    }
   ],
   "source": [
    "viz = relay_viz.RelayVisualizer(mod)\n",
    "viz.render()"
   ]
  },
  {
   "cell_type": "code",
   "execution_count": 11,
   "id": "138e475b",
   "metadata": {},
   "outputs": [],
   "source": [
    "class YourAwesomeParser(VizParser):\n",
    "    def __init__(self):\n",
    "        self._delegate = TermVizParser()\n",
    "\n",
    "    def get_node_edges(\n",
    "        self,\n",
    "        node: relay.Expr,\n",
    "        relay_param: Dict[str, tvm.runtime.NDArray],\n",
    "        node_to_id: Dict[relay.Expr, str],\n",
    "    ) -> Tuple[Union[VizNode, None], List[VizEdge]]:\n",
    "\n",
    "        if isinstance(node, relay.Var):\n",
    "            node = VizNode(node_to_id[node], \"AwesomeVar\", f\"name_hint {node.name_hint}\")\n",
    "            # no edge is introduced. So return an empty list.\n",
    "            return node, []\n",
    "\n",
    "        # delegate other types to the other parser.\n",
    "        return self._delegate.get_node_edges(node, relay_param, node_to_id)"
   ]
  },
  {
   "cell_type": "code",
   "execution_count": 12,
   "id": "f0df0d2f",
   "metadata": {},
   "outputs": [
    {
     "name": "stdout",
     "output_type": "stream",
     "text": [
      "@main([Var(input0), Var(input1), Var(input2)])\n",
      "`--Call \n",
      "   |--GlobalVar AddFunc\n",
      "   |--AwesomeVar name_hint input2\n",
      "   `--Call \n",
      "      |--GlobalVar AddFunc\n",
      "      |--AwesomeVar name_hint input0\n",
      "      `--AwesomeVar name_hint input1\n",
      "@AddFunc([Var(data), Var(bias)])\n",
      "`--Call \n",
      "   |--add \n",
      "   |--AwesomeVar name_hint data\n",
      "   `--AwesomeVar name_hint bias\n"
     ]
    }
   ],
   "source": [
    "viz = relay_viz.RelayVisualizer(mod, {}, TermPlotter(), YourAwesomeParser())\n",
    "viz.render()"
   ]
  },
  {
   "cell_type": "code",
   "execution_count": 13,
   "id": "c61f8629",
   "metadata": {},
   "outputs": [
    {
     "name": "stdout",
     "output_type": "stream",
     "text": [
      "@main([Var(input0), Var(input1), Var(input2)])\n",
      "`--Call \n",
      "   |--GlobalVar AddFunc\n",
      "   |--AwesomeVar name_hint input2\n",
      "   |  `--double AwesomeVar \n",
      "   `--Call \n",
      "      |--GlobalVar AddFunc\n",
      "      |--AwesomeVar name_hint input0\n",
      "      |  `--double AwesomeVar \n",
      "      `--AwesomeVar name_hint input1\n",
      "         `--double AwesomeVar \n",
      "@AddFunc([Var(data), Var(bias)])\n",
      "`--Call \n",
      "   |--add \n",
      "   |--AwesomeVar name_hint data\n",
      "   |  `--double AwesomeVar \n",
      "   `--AwesomeVar name_hint bias\n",
      "      `--double AwesomeVar \n"
     ]
    }
   ],
   "source": [
    "class AwesomeGraph(TermGraph):\n",
    "    def node(self, viz_node):\n",
    "        # add the node first\n",
    "        super().node(viz_node)\n",
    "        # if it's AwesomeVar, duplicate it.\n",
    "        if viz_node.type_name == \"AwesomeVar\":\n",
    "            duplicated_id = f\"duplicated_{viz_node.identity}\"\n",
    "            duplicated_type = \"double AwesomeVar\"\n",
    "            super().node(VizNode(duplicated_id, duplicated_type, \"\"))\n",
    "            # connect the duplicated var to the original one\n",
    "            super().edge(VizEdge(duplicated_id, viz_node.identity))\n",
    "\n",
    "\n",
    "# override TermPlotter to use `AwesomeGraph` instead\n",
    "class AwesomePlotter(TermPlotter):\n",
    "    def create_graph(self, name):\n",
    "        self._name_to_graph[name] = AwesomeGraph(name)\n",
    "        return self._name_to_graph[name]\n",
    "\n",
    "\n",
    "viz = relay_viz.RelayVisualizer(mod, {}, AwesomePlotter(), YourAwesomeParser())\n",
    "viz.render()"
   ]
  },
  {
   "cell_type": "code",
   "execution_count": null,
   "id": "c7b29e14",
   "metadata": {},
   "outputs": [],
   "source": []
  }
 ],
 "metadata": {
  "kernelspec": {
   "display_name": "Python 3 (ipykernel)",
   "language": "python",
   "name": "python3"
  },
  "language_info": {
   "codemirror_mode": {
    "name": "ipython",
    "version": 3
   },
   "file_extension": ".py",
   "mimetype": "text/x-python",
   "name": "python",
   "nbconvert_exporter": "python",
   "pygments_lexer": "ipython3",
   "version": "3.8.10"
  }
 },
 "nbformat": 4,
 "nbformat_minor": 5
}
