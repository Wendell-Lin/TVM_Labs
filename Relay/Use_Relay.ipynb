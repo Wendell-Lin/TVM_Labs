{
 "cells": [
  {
   "cell_type": "markdown",
   "id": "11cc1dec",
   "metadata": {},
   "source": [
    "# Simple mutator and visitor demo\n",
    "## Todo: check correctness"
   ]
  },
  {
   "cell_type": "code",
   "execution_count": 1,
   "id": "6cf43d57",
   "metadata": {},
   "outputs": [],
   "source": [
    "import tvm\n",
    "from tvm import relay"
   ]
  },
  {
   "cell_type": "code",
   "execution_count": 2,
   "id": "b56e3884",
   "metadata": {},
   "outputs": [],
   "source": [
    "# create mutator and visitor by inherit, simple example here, isinstance is recommended\n",
    "from tvm.relay.expr_functor import ExprMutator, ExprVisitor\n",
    "\n",
    "class ChangeOperator(ExprMutator):\n",
    "    def __init__(self):\n",
    "        super().__init__()\n",
    "    \n",
    "    def visit_call(self, c):\n",
    "        if c.op.name == 'nn.conv2d':\n",
    "#             print(dir(c.attrs)) # check attrs' properties to create another call\n",
    "            return relay.nn.contrib_conv2d_nchwc(\n",
    "                    c.args[0], \n",
    "                    c.args[1], \n",
    "                    padding=c.attrs.padding,\n",
    "                    channels=c.attrs.channels,\n",
    "                    kernel_size=c.attrs.kernel_size\n",
    "            )\n",
    "        return super().visit_call(c)\n",
    "    \n",
    "class Vis(ExprVisitor):\n",
    "    def __init__(self):\n",
    "        super().__init__()\n",
    "    \n",
    "    def visit_call(self, c):\n",
    "        # postorder print to get input to output call\n",
    "        super().visit_call(c)\n",
    "        print(c.op)"
   ]
  },
  {
   "cell_type": "code",
   "execution_count": 3,
   "id": "9a5e7d0e",
   "metadata": {},
   "outputs": [
    {
     "data": {
      "text/plain": [
       "fn (%data: Tensor[(1, 3, 224, 224), float32], %weight, %bn_gamma, %bn_beta, %bn_mean, %bn_var) {\n",
       "  %0 = nn.conv2d(%data, %weight, padding=[1, 1, 1, 1], channels=16, kernel_size=[3, 3]);\n",
       "  %1 = nn.batch_norm(%0, %bn_gamma, %bn_beta, %bn_mean, %bn_var);\n",
       "  %2 = %1.0;\n",
       "  nn.relu(%2)\n",
       "}"
      ]
     },
     "execution_count": 3,
     "metadata": {},
     "output_type": "execute_result"
    }
   ],
   "source": [
    "# simple CNN net to demo mutator\n",
    "out_channels = 16\n",
    "batch_size = 1\n",
    "\n",
    "data = relay.var(\"data\", relay.TensorType((batch_size, 3, 224, 224), \"float32\"))\n",
    "weight = relay.var(\"weight\")\n",
    "bn_gamma = relay.var(\"bn_gamma\")\n",
    "bn_beta = relay.var(\"bn_beta\")\n",
    "bn_mmean = relay.var(\"bn_mean\")\n",
    "bn_mvar = relay.var(\"bn_var\")\n",
    "\n",
    "simple_net = relay.nn.conv2d(\n",
    "    data=data, weight=weight, kernel_size=(3, 3), channels=out_channels, padding=(1, 1)\n",
    ")\n",
    "simple_net = relay.nn.batch_norm(simple_net, bn_gamma, bn_beta, bn_mmean, bn_mvar)[0]\n",
    "simple_net = relay.nn.relu(simple_net)\n",
    "simple_net = relay.Function(relay.analysis.free_vars(simple_net), simple_net)\n",
    "\n",
    "simple_net"
   ]
  },
  {
   "cell_type": "code",
   "execution_count": 4,
   "id": "34f3f621",
   "metadata": {},
   "outputs": [
    {
     "data": {
      "text/plain": [
       "fn (%data: Tensor[(1, 3, 224, 224), float32], %weight, %bn_gamma, %bn_beta, %bn_mean, %bn_var) {\n",
       "  %0 = nn.contrib_conv2d_NCHWc(%data, %weight, padding=[1, 1, 1, 1], channels=16, kernel_size=[3, 3], data_layout=\"NCHW8c\");\n",
       "  %1 = nn.batch_norm(%0, %bn_gamma, %bn_beta, %bn_mean, %bn_var);\n",
       "  %2 = %1.0;\n",
       "  nn.relu(%2)\n",
       "}"
      ]
     },
     "execution_count": 4,
     "metadata": {},
     "output_type": "execute_result"
    }
   ],
   "source": [
    "# nn.conv2d is changed to another conv2d w/ same attrs\n",
    "new_net = ChangeOperator().visit(simple_net)\n",
    "new_net"
   ]
  },
  {
   "cell_type": "code",
   "execution_count": 5,
   "id": "1bb28893",
   "metadata": {},
   "outputs": [
    {
     "name": "stdout",
     "output_type": "stream",
     "text": [
      "nn.contrib_conv2d_NCHWc\n",
      "nn.batch_norm\n",
      "nn.relu\n"
     ]
    }
   ],
   "source": [
    "# demo visitor\n",
    "Vis().visit(new_net)"
   ]
  }
 ],
 "metadata": {
  "kernelspec": {
   "display_name": "Python 3 (ipykernel)",
   "language": "python",
   "name": "python3"
  },
  "language_info": {
   "codemirror_mode": {
    "name": "ipython",
    "version": 3
   },
   "file_extension": ".py",
   "mimetype": "text/x-python",
   "name": "python",
   "nbconvert_exporter": "python",
   "pygments_lexer": "ipython3",
   "version": "3.8.10"
  }
 },
 "nbformat": 4,
 "nbformat_minor": 5
}
