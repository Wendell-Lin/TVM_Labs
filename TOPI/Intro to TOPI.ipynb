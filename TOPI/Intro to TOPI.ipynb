{
 "cells": [
  {
   "cell_type": "code",
   "execution_count": 1,
   "id": "a3ba76a1",
   "metadata": {},
   "outputs": [],
   "source": [
    "import tvm\n",
    "from tvm import te\n",
    "from tvm import rpc\n",
    "import numpy as np\n",
    "from tvm import topi\n",
    "from tvm import testing\n",
    "from tvm.contrib import utils"
   ]
  },
  {
   "cell_type": "code",
   "execution_count": 2,
   "id": "14389c22",
   "metadata": {},
   "outputs": [],
   "source": [
    "host = \"192.168.55.1\"\n",
    "port = 9090\n",
    "remote = rpc.connect(host, port)"
   ]
  },
  {
   "cell_type": "code",
   "execution_count": 3,
   "id": "09d83da0",
   "metadata": {},
   "outputs": [],
   "source": [
    "n = te.var(\"n\")\n",
    "A = te.placeholder((n,), name=\"A\")\n",
    "B = te.placeholder((n,), name=\"B\")\n",
    "C = te.compute(A.shape, lambda i: A[i] + B[i], name=\"C\")\n",
    "s = te.create_schedule(C.op)"
   ]
  },
  {
   "cell_type": "code",
   "execution_count": 4,
   "id": "12509b19",
   "metadata": {},
   "outputs": [],
   "source": [
    "# bx, tx = s[C].split(C.op.axis[0], factor=64)\n",
    "# s[C].bind(bx, te.thread_axis(\"blockIdx.x\"))\n",
    "# s[C].bind(tx, te.thread_axis(\"threadIdx.x\"))"
   ]
  },
  {
   "cell_type": "code",
   "execution_count": 8,
   "id": "3bea20d6",
   "metadata": {},
   "outputs": [],
   "source": [
    "func = None\n",
    "with tvm.target.Target(target='cuda -arch=sm_62', host='llvm -mtriple=aarch64-linux-gnu') as cuda_tgt:\n",
    "    s = topi.cuda.schedule_injective([C])\n",
    "    func = tvm.build(s, [A, B, C], cuda_tgt)"
   ]
  },
  {
   "cell_type": "code",
   "execution_count": 9,
   "id": "eaf16ddd",
   "metadata": {},
   "outputs": [
    {
     "name": "stdout",
     "output_type": "stream",
     "text": [
      "@main = primfn(A_1: handle, B_1: handle, C_1: handle) -> ()\n",
      "  attr = {\"from_legacy_te_schedule\": True, \"global_symbol\": \"main\", \"tir.noalias\": True}\n",
      "  buffers = {A: Buffer(A_2: Pointer(float32), float32, [(stride: int32*n: int32)], [], type=\"auto\"),\n",
      "             B: Buffer(B_2: Pointer(float32), float32, [(stride_1: int32*n)], [], type=\"auto\"),\n",
      "             C: Buffer(C_2: Pointer(float32), float32, [(stride_2: int32*n)], [], type=\"auto\")}\n",
      "  buffer_map = {A_1: A, B_1: B, C_1: C}\n",
      "  preflattened_buffer_map = {A_1: A_3: Buffer(A_2, float32, [n], [stride], type=\"auto\"), B_1: B_3: Buffer(B_2, float32, [n], [stride_1], type=\"auto\"), C_1: C_3: Buffer(C_2, float32, [n], [stride_2], type=\"auto\")} {\n",
      "  attr [IterVar(blockIdx.x: int32, (nullptr), \"ThreadIndex\", \"blockIdx.x\")] \"thread_extent\" = floordiv((n + 511), 512);\n",
      "  attr [IterVar(threadIdx.x: int32, (nullptr), \"ThreadIndex\", \"threadIdx.x\")] \"thread_extent\" = 512;\n",
      "  if (blockIdx.x < floordiv(n, 512)) {\n",
      "    C[(((blockIdx.x*512) + threadIdx.x)*stride_2)] = (A[(((blockIdx.x*512) + threadIdx.x)*stride)] + B[(((blockIdx.x*512) + threadIdx.x)*stride_1)])\n",
      "  } else {\n",
      "    if (((blockIdx.x*512) + threadIdx.x) < n) {\n",
      "      C[(((blockIdx.x*512) + threadIdx.x)*stride_2)] = (A[(((blockIdx.x*512) + threadIdx.x)*stride)] + B[(((blockIdx.x*512) + threadIdx.x)*stride_1)])\n",
      "    }\n",
      "  }\n",
      "}\n",
      "\n",
      "\n"
     ]
    }
   ],
   "source": [
    "print(tvm.lower(s, [A, B, C]))"
   ]
  },
  {
   "cell_type": "code",
   "execution_count": 10,
   "id": "d6b9b744",
   "metadata": {},
   "outputs": [],
   "source": [
    "temp = utils.tempdir()\n",
    "path = temp.relpath(\"lib2.tar\")\n",
    "func.export_library(path)"
   ]
  },
  {
   "cell_type": "code",
   "execution_count": 11,
   "id": "a53076d0",
   "metadata": {},
   "outputs": [],
   "source": [
    "remote.upload(path)\n",
    "func = remote.load_module(\"lib2.tar\")"
   ]
  },
  {
   "cell_type": "code",
   "execution_count": 15,
   "id": "f89ce6bb",
   "metadata": {},
   "outputs": [],
   "source": [
    "dev = remote.cuda()\n",
    "n = 1024\n",
    "a = tvm.nd.array(np.random.uniform(size=n).astype(A.dtype), dev)\n",
    "b = tvm.nd.array(np.random.uniform(size=n).astype(B.dtype), dev)\n",
    "c = tvm.nd.array(np.zeros(n, dtype=C.dtype), dev)\n",
    "func(a, b, c)\n",
    "tvm.testing.assert_allclose(c.numpy(), a.numpy() + b.numpy())"
   ]
  }
 ],
 "metadata": {
  "kernelspec": {
   "display_name": "Python 3 (ipykernel)",
   "language": "python",
   "name": "python3"
  },
  "language_info": {
   "codemirror_mode": {
    "name": "ipython",
    "version": 3
   },
   "file_extension": ".py",
   "mimetype": "text/x-python",
   "name": "python",
   "nbconvert_exporter": "python",
   "pygments_lexer": "ipython3",
   "version": "3.8.10"
  }
 },
 "nbformat": 4,
 "nbformat_minor": 5
}
